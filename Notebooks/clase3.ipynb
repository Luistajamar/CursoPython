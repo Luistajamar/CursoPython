{
 "cells": [
  {
   "cell_type": "markdown",
   "metadata": {},
   "source": [
    "# ACTIVIDAD 3 "
   ]
  },
  {
   "cell_type": "markdown",
   "metadata": {},
   "source": [
    "Dado un par de números reales que recba como entrada. Elaborar un código que calcule e imprima todas las operaciones básicas:\n",
    "Suma, Resta, Multiplicación (en float y entera), División, Módulo y Potencia."
   ]
  },
  {
   "cell_type": "code",
   "execution_count": 9,
   "metadata": {},
   "outputs": [
    {
     "name": "stdout",
     "output_type": "stream",
     "text": [
      "Operaciones básicas:\n",
      "Suma: 30.0\n",
      "Resta: -10.0\n",
      "Multiplicación: 200.0\n",
      "Division float: 0.5\n",
      "Division entera: 0.0\n",
      "Modulo: 10.0\n",
      "Potencia: 1e+20\n"
     ]
    }
   ],
   "source": [
    "def operaciones_basicas(a, b):\n",
    "    # Suma\n",
    "    suma = a + b\n",
    "    \n",
    "    # Resta\n",
    "    resta = a - b\n",
    "    \n",
    "    # Multiplicación\n",
    "    multiplicacion = a * b\n",
    "    \n",
    "    # División (en float)\n",
    "    division_float = a / b\n",
    "    \n",
    "    # División (entera)\n",
    "    division_entera = a // b\n",
    "    \n",
    "    # Módulo\n",
    "    modulo = a % b\n",
    "    \n",
    "    # Potencia\n",
    "    potencia = a ** b\n",
    "    \n",
    "    # Imprimir resultados\n",
    "    print(\"Suma:\", suma)\n",
    "    print(\"Resta:\", resta)\n",
    "    print(\"Multiplicación:\", multiplicacion)\n",
    "    print(\"Division float:\", division_float)\n",
    "    print(\"Division entera:\", division_entera)\n",
    "    print(\"Modulo:\", modulo)\n",
    "    print(\"Potencia:\", potencia)\n",
    "\n",
    "# Solicitar entrada de usuario\n",
    "\n",
    "num1 = float(input(\"Ingrese el primer número: \"))\n",
    "num2 = float(input(\"Ingrese el segundo número: \"))\n",
    "    \n",
    "\n",
    "print(\"Operaciones básicas:\")\n",
    "operaciones_basicas(num1, num2)\n"
   ]
  },
  {
   "cell_type": "markdown",
   "metadata": {},
   "source": [
    "# ACTIVIDAD 4\n"
   ]
  },
  {
   "cell_type": "markdown",
   "metadata": {},
   "source": [
    "Dado el peso y la altura de un paciente. Elabore un código que calcule e imprima el IMC (índice de masa corporal), además del nombre completo, sexo y edad del Paciente. La fórmula del IMC con la que trabajaremos es: IMC = Peso / Altura^2"
   ]
  },
  {
   "cell_type": "code",
   "execution_count": 11,
   "metadata": {},
   "outputs": [
    {
     "name": "stdout",
     "output_type": "stream",
     "text": [
      "Nombre completo: Luis Torres\n",
      "Sexo: Masculino\n",
      "Edad: 25 años\n",
      "Peso: 55.0 kg\n",
      "Altura: 1.65 m\n",
      "IMC: 20.20\n"
     ]
    }
   ],
   "source": [
    "def calcular_imc(peso, altura):\n",
    "    \"\"\"Calcula el índice de masa corporal (IMC).\"\"\"\n",
    "    return peso / (altura ** 2)\n",
    "\n",
    "def informacion_paciente(nombre, sexo, edad, peso, altura):\n",
    "    \"\"\"Imprime la información del paciente y su IMC.\"\"\"\n",
    "    imc = calcular_imc(peso, altura)\n",
    "    \n",
    "    # Imprimir la información del paciente\n",
    "    print(f\"Nombre completo: {nombre}\")\n",
    "    print(f\"Sexo: {sexo}\")\n",
    "    print(f\"Edad: {edad} años\")\n",
    "    print(f\"Peso: {peso} kg\")\n",
    "    print(f\"Altura: {altura} m\")\n",
    "    print(f\"IMC: {imc:.2f}\")\n",
    "\n",
    "# Solicitar entrada de usuario\n",
    "try:\n",
    "    nombre = input(\"Ingrese el nombre completo del paciente: \")\n",
    "    sexo = input(\"Ingrese el sexo del paciente: \")\n",
    "    edad = int(input(\"Ingrese la edad del paciente: \"))\n",
    "    peso = float(input(\"Ingrese el peso del paciente (en kg): \"))\n",
    "    altura = float(input(\"Ingrese la altura del paciente (en metros): \"))\n",
    "    \n",
    "    # Llamar a la función con los datos ingresados\n",
    "    informacion_paciente(nombre, sexo, edad, peso, altura)\n",
    "\n",
    "except ValueError:\n",
    "    print(\"Por favor, ingrese valores válidos para la edad, el peso y la altura.\")"
   ]
  },
  {
   "cell_type": "code",
   "execution_count": null,
   "metadata": {},
   "outputs": [],
   "source": [
    "\n"
   ]
  }
 ],
 "metadata": {
  "kernelspec": {
   "display_name": "Curso_Python_2024",
   "language": "python",
   "name": "python3"
  },
  "language_info": {
   "codemirror_mode": {
    "name": "ipython",
    "version": 3
   },
   "file_extension": ".py",
   "mimetype": "text/x-python",
   "name": "python",
   "nbconvert_exporter": "python",
   "pygments_lexer": "ipython3",
   "version": "3.11.9"
  }
 },
 "nbformat": 4,
 "nbformat_minor": 2
}
