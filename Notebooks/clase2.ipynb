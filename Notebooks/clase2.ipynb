{
 "cells": [
  {
   "cell_type": "markdown",
   "id": "2800af96-7e0f-4624-bfa0-bf85b29b73b9",
   "metadata": {},
   "source": [
    "# CLASE 2"
   ]
  },
  {
   "cell_type": "code",
   "execution_count": 3,
   "id": "20006b61-3326-4569-aed4-cff4db163d3c",
   "metadata": {},
   "outputs": [],
   "source": [
    "x = 3"
   ]
  },
  {
   "cell_type": "code",
   "execution_count": 4,
   "id": "6e20ea55-d4c2-4821-8635-3bfcb342e734",
   "metadata": {},
   "outputs": [
    {
     "data": {
      "text/plain": [
       "4"
      ]
     },
     "execution_count": 4,
     "metadata": {},
     "output_type": "execute_result"
    }
   ],
   "source": [
    "x + 1"
   ]
  },
  {
   "cell_type": "code",
   "execution_count": 5,
   "id": "c152f741-a272-4b95-843d-2be3b82eab1a",
   "metadata": {},
   "outputs": [],
   "source": [
    "y = x + 1"
   ]
  },
  {
   "cell_type": "code",
   "execution_count": 6,
   "id": "a33fab71-7729-4b01-b0f1-badc44fbcc9a",
   "metadata": {},
   "outputs": [
    {
     "data": {
      "text/plain": [
       "4"
      ]
     },
     "execution_count": 6,
     "metadata": {},
     "output_type": "execute_result"
    }
   ],
   "source": [
    "y"
   ]
  },
  {
   "cell_type": "code",
   "execution_count": 7,
   "id": "c4877a1c-20c7-4281-b78f-b57cea1cebea",
   "metadata": {},
   "outputs": [],
   "source": [
    "x = x + 1"
   ]
  },
  {
   "cell_type": "code",
   "execution_count": 8,
   "id": "4b41cbf0-0396-43ea-a471-0084204fc045",
   "metadata": {},
   "outputs": [
    {
     "data": {
      "text/plain": [
       "4"
      ]
     },
     "execution_count": 8,
     "metadata": {},
     "output_type": "execute_result"
    }
   ],
   "source": [
    "x"
   ]
  },
  {
   "cell_type": "code",
   "execution_count": 9,
   "id": "96384362-a0dd-45e5-9747-02f23488729e",
   "metadata": {},
   "outputs": [],
   "source": [
    "x = 7"
   ]
  },
  {
   "cell_type": "code",
   "execution_count": 10,
   "id": "a8aa309d-ff32-4e00-bc23-e54f21d0c4f3",
   "metadata": {},
   "outputs": [
    {
     "data": {
      "text/plain": [
       "7"
      ]
     },
     "execution_count": 10,
     "metadata": {},
     "output_type": "execute_result"
    }
   ],
   "source": [
    "x"
   ]
  },
  {
   "cell_type": "code",
   "execution_count": 11,
   "id": "23e9cbc7-609c-4f00-b586-c9da8178e112",
   "metadata": {},
   "outputs": [],
   "source": [
    "x += 2"
   ]
  },
  {
   "cell_type": "code",
   "execution_count": 12,
   "id": "fea05be9-fb59-4576-b54f-107146a90bd5",
   "metadata": {},
   "outputs": [
    {
     "data": {
      "text/plain": [
       "9"
      ]
     },
     "execution_count": 12,
     "metadata": {},
     "output_type": "execute_result"
    }
   ],
   "source": [
    "x"
   ]
  },
  {
   "cell_type": "markdown",
   "id": "3f8ff348-ab4c-460e-929a-d0731938b1d9",
   "metadata": {},
   "source": [
    "### STRINGS"
   ]
  },
  {
   "cell_type": "code",
   "execution_count": 13,
   "id": "948c0b01-04ac-4ef7-82a8-9dc34ba4b5cb",
   "metadata": {},
   "outputs": [],
   "source": [
    "saludo = 'hola'"
   ]
  },
  {
   "cell_type": "code",
   "execution_count": 14,
   "id": "9cdf18ec-3676-485c-bdb3-85a0ff81b410",
   "metadata": {},
   "outputs": [],
   "source": [
    "frase = 'Hola Mundo!'"
   ]
  },
  {
   "cell_type": "code",
   "execution_count": 15,
   "id": "becd8b79-4bc2-4fab-aa96-9d29b98f3e6e",
   "metadata": {},
   "outputs": [],
   "source": [
    "letra = 'x'"
   ]
  },
  {
   "cell_type": "code",
   "execution_count": 16,
   "id": "ace76014-c549-482e-b43e-caa994e3a0f5",
   "metadata": {},
   "outputs": [
    {
     "data": {
      "text/plain": [
       "'x'"
      ]
     },
     "execution_count": 16,
     "metadata": {},
     "output_type": "execute_result"
    }
   ],
   "source": [
    "letra"
   ]
  },
  {
   "cell_type": "code",
   "execution_count": 17,
   "id": "25ce3a7f-89d2-4e74-a6c4-b5eecd9c6d0a",
   "metadata": {},
   "outputs": [
    {
     "name": "stdout",
     "output_type": "stream",
     "text": [
      "Hola Mundo!x\n"
     ]
    }
   ],
   "source": [
    "print (frase + letra)"
   ]
  },
  {
   "cell_type": "code",
   "execution_count": 18,
   "id": "065c4248-8eb3-462d-aea5-5c1bab675e0f",
   "metadata": {},
   "outputs": [],
   "source": [
    "a = 'Esto es un string'"
   ]
  },
  {
   "cell_type": "code",
   "execution_count": 19,
   "id": "d13634b9-f998-414a-9298-0aa3c362992a",
   "metadata": {},
   "outputs": [],
   "source": [
    "b = a"
   ]
  },
  {
   "cell_type": "code",
   "execution_count": 20,
   "id": "5c24f511-7c0a-4bff-87d2-8cdb0446e803",
   "metadata": {},
   "outputs": [
    {
     "name": "stdout",
     "output_type": "stream",
     "text": [
      "Esto es un string\n"
     ]
    }
   ],
   "source": [
    "print(b)"
   ]
  },
  {
   "cell_type": "code",
   "execution_count": 21,
   "id": "b9707f48-ba97-4d9e-bbc9-d9b7bb1299d8",
   "metadata": {},
   "outputs": [],
   "source": [
    "comillas_simples = 'Esto es un String'"
   ]
  },
  {
   "cell_type": "code",
   "execution_count": 22,
   "id": "c4524fbd-2a0b-483e-8d5f-9240ed55e0e8",
   "metadata": {},
   "outputs": [],
   "source": [
    "comillas_dobles = \"Esto también es un String\""
   ]
  },
  {
   "cell_type": "code",
   "execution_count": 23,
   "id": "2c911958-449b-4461-9057-551cd89b9da7",
   "metadata": {},
   "outputs": [],
   "source": [
    "saltos = \"hola\\na\\ntodos\""
   ]
  },
  {
   "cell_type": "code",
   "execution_count": 24,
   "id": "9d7a38ce-fb28-4f75-9e23-ede78b293923",
   "metadata": {},
   "outputs": [
    {
     "name": "stdout",
     "output_type": "stream",
     "text": [
      "hola\n",
      "a\n",
      "todos\n"
     ]
    }
   ],
   "source": [
    "print(saltos)"
   ]
  },
  {
   "cell_type": "code",
   "execution_count": 25,
   "id": "2908a5f8-9b56-4a69-8606-651a0d27afc2",
   "metadata": {},
   "outputs": [
    {
     "name": "stdout",
     "output_type": "stream",
     "text": [
      "Hello\n",
      "World\n"
     ]
    }
   ],
   "source": [
    "print(\"Hello\\nWorld\")"
   ]
  },
  {
   "cell_type": "code",
   "execution_count": 26,
   "id": "89130f00-4ea6-473c-8906-3faa82a34878",
   "metadata": {},
   "outputs": [
    {
     "name": "stdout",
     "output_type": "stream",
     "text": [
      "Hello\tWorld\n"
     ]
    }
   ],
   "source": [
    "print(\"Hello\\tWorld\")"
   ]
  },
  {
   "cell_type": "code",
   "execution_count": 27,
   "id": "1514cbc0-e76c-4dfa-a2c2-683bbd7cb6e3",
   "metadata": {},
   "outputs": [
    {
     "name": "stdout",
     "output_type": "stream",
     "text": [
      "Himansu\n",
      "\tDAVV\n",
      "\t\tIndore\n"
     ]
    }
   ],
   "source": [
    "print(\"Himansu\\n\\tDAVV\\n\\t\\tIndore\")"
   ]
  },
  {
   "cell_type": "code",
   "execution_count": 28,
   "id": "897e9f13-8b28-4fca-91e3-990a85056b9f",
   "metadata": {},
   "outputs": [
    {
     "name": "stdout",
     "output_type": "stream",
     "text": [
      "*\n",
      "**\n",
      "***\n"
     ]
    }
   ],
   "source": [
    "print(\"*\\n**\\n***\")"
   ]
  },
  {
   "cell_type": "code",
   "execution_count": 29,
   "id": "37dfca86-16b2-4d7e-b446-68cadf79dbae",
   "metadata": {},
   "outputs": [
    {
     "name": "stdout",
     "output_type": "stream",
     "text": [
      "     *\n",
      "*\t*\n",
      "      *\n"
     ]
    }
   ],
   "source": [
    "print(\"     *\\n*\\t*\\n      *\")"
   ]
  },
  {
   "cell_type": "markdown",
   "id": "dd7b87b7-7ea4-44df-8fc7-f38bed556715",
   "metadata": {},
   "source": [
    "### CONSTANTES "
   ]
  },
  {
   "cell_type": "code",
   "execution_count": 30,
   "id": "73d83055-43cf-4a60-9f2f-bd81cc91ae53",
   "metadata": {},
   "outputs": [],
   "source": [
    "IVA = 0.18"
   ]
  },
  {
   "cell_type": "code",
   "execution_count": 31,
   "id": "9ec1941d-a440-4f2a-a490-64002b54e01e",
   "metadata": {},
   "outputs": [],
   "source": [
    "NUMERO_PI = 3.14"
   ]
  },
  {
   "cell_type": "code",
   "execution_count": 32,
   "id": "1df3e010-eb6f-4688-bc94-fd308b2ae29f",
   "metadata": {},
   "outputs": [],
   "source": [
    "SOUND_SPEED = 343.2"
   ]
  },
  {
   "cell_type": "code",
   "execution_count": 33,
   "id": "1c10ec6a-ca57-45bb-a764-a0623c433371",
   "metadata": {},
   "outputs": [],
   "source": [
    "WATER_DENSITY = 997"
   ]
  },
  {
   "cell_type": "code",
   "execution_count": 34,
   "id": "25483459-6b4b-43a7-a763-6c58439c5595",
   "metadata": {},
   "outputs": [],
   "source": [
    "EARTH_NAME = 'La Tierra'"
   ]
  },
  {
   "cell_type": "markdown",
   "id": "1f2fcd70-eec1-4852-ab71-0aece3a93265",
   "metadata": {},
   "source": [
    "### STRING y métodos Asociados"
   ]
  },
  {
   "cell_type": "code",
   "execution_count": 35,
   "id": "a269a5e9-6f82-40c7-b2d7-97600e1608ec",
   "metadata": {},
   "outputs": [],
   "source": [
    "a = 'Hola'"
   ]
  },
  {
   "cell_type": "code",
   "execution_count": 36,
   "id": "c25ffab7-9d15-40ca-9540-3053b712a318",
   "metadata": {},
   "outputs": [],
   "source": [
    "b =' Mundo'"
   ]
  },
  {
   "cell_type": "code",
   "execution_count": 37,
   "id": "24ad85e6-b57e-4729-ba07-4f2ae78fe6e5",
   "metadata": {},
   "outputs": [
    {
     "name": "stdout",
     "output_type": "stream",
     "text": [
      "Hola Mundo\n"
     ]
    }
   ],
   "source": [
    "print(a + b)"
   ]
  },
  {
   "cell_type": "code",
   "execution_count": 38,
   "id": "74d503ff-840e-42b6-a3ea-697ab78aa723",
   "metadata": {},
   "outputs": [],
   "source": [
    "a = '7'"
   ]
  },
  {
   "cell_type": "code",
   "execution_count": 39,
   "id": "a9de6df6-eba3-407c-a1ef-5636e166c6ba",
   "metadata": {},
   "outputs": [],
   "source": [
    "b = '3'"
   ]
  },
  {
   "cell_type": "code",
   "execution_count": 40,
   "id": "a7e30d31-c316-4361-a72a-988de5764331",
   "metadata": {},
   "outputs": [
    {
     "name": "stdout",
     "output_type": "stream",
     "text": [
      "73\n"
     ]
    }
   ],
   "source": [
    "print(a + b)"
   ]
  },
  {
   "cell_type": "markdown",
   "id": "2706d59b-9f14-43f3-8975-454af750ed8d",
   "metadata": {},
   "source": [
    "### Concatenación "
   ]
  },
  {
   "cell_type": "code",
   "execution_count": 41,
   "id": "0f086dbe-08ab-421f-9051-b781e3e77d01",
   "metadata": {},
   "outputs": [],
   "source": [
    "nombre = 'Carlos'"
   ]
  },
  {
   "cell_type": "code",
   "execution_count": 42,
   "id": "77f4e7a6-f071-4e95-bf42-8f9c8de102de",
   "metadata": {},
   "outputs": [],
   "source": [
    "apellido = 'Santana'"
   ]
  },
  {
   "cell_type": "code",
   "execution_count": 43,
   "id": "ab190ddb-98ff-4ca0-bd2a-08b626212500",
   "metadata": {},
   "outputs": [
    {
     "name": "stdout",
     "output_type": "stream",
     "text": [
      "Mi nombre es Carlos Santana\n"
     ]
    }
   ],
   "source": [
    "print (\"Mi nombre es \" + nombre + \" \" + apellido)"
   ]
  },
  {
   "cell_type": "markdown",
   "id": "726f08e6-3b2a-4cbd-a9bf-2ea6712723dd",
   "metadata": {},
   "source": [
    "### Interpolación"
   ]
  },
  {
   "cell_type": "code",
   "execution_count": 44,
   "id": "753e421e-b183-443a-bc09-fd5f9499b416",
   "metadata": {},
   "outputs": [],
   "source": [
    "nombre = 'Carlos'"
   ]
  },
  {
   "cell_type": "code",
   "execution_count": 45,
   "id": "894ce799-827f-41cd-8b55-ab9a860aea36",
   "metadata": {},
   "outputs": [],
   "source": [
    "apellido = 'Santana'"
   ]
  },
  {
   "cell_type": "code",
   "execution_count": 47,
   "id": "9858fd3a-b02d-4eb0-8621-a565cf40e102",
   "metadata": {},
   "outputs": [
    {
     "name": "stdout",
     "output_type": "stream",
     "text": [
      "Mi nombre es Carlos Santana\n"
     ]
    }
   ],
   "source": [
    "print (\"Mi nombre es {} {}\".format(nombre, apellido))"
   ]
  },
  {
   "cell_type": "markdown",
   "id": "9ca92625-4d74-4cb0-a9f3-453b2eb326d1",
   "metadata": {},
   "source": [
    "### Count"
   ]
  },
  {
   "cell_type": "code",
   "execution_count": 49,
   "id": "c3262897-b73d-4382-a11d-63b8ae180208",
   "metadata": {},
   "outputs": [
    {
     "name": "stdout",
     "output_type": "stream",
     "text": [
      "1\n"
     ]
    }
   ],
   "source": [
    "print(nombre.count(\"a\"))"
   ]
  },
  {
   "cell_type": "code",
   "execution_count": 51,
   "id": "794d57a3-1fda-4585-b7db-e8239c69d1a0",
   "metadata": {},
   "outputs": [
    {
     "name": "stdout",
     "output_type": "stream",
     "text": [
      "3\n"
     ]
    }
   ],
   "source": [
    "print(apellido.count(\"a\"))"
   ]
  },
  {
   "cell_type": "markdown",
   "id": "3b00261e-cc6b-44a3-89fd-750d38c5a3c4",
   "metadata": {},
   "source": [
    "### Len"
   ]
  },
  {
   "cell_type": "code",
   "execution_count": 52,
   "id": "e6bf793c-5a10-49c3-b4fa-85741da5bd28",
   "metadata": {},
   "outputs": [
    {
     "name": "stdout",
     "output_type": "stream",
     "text": [
      "7\n"
     ]
    }
   ],
   "source": [
    "print(len(apellido))"
   ]
  },
  {
   "cell_type": "markdown",
   "id": "eded74f1-a514-4067-b49a-d853fd75a6bf",
   "metadata": {},
   "source": [
    "### Upper"
   ]
  },
  {
   "cell_type": "code",
   "execution_count": 53,
   "id": "2cc4b8f0-9d1f-4c42-9a51-07941fda318d",
   "metadata": {},
   "outputs": [
    {
     "name": "stdout",
     "output_type": "stream",
     "text": [
      "SANTANA\n"
     ]
    }
   ],
   "source": [
    "print(apellido.upper())"
   ]
  },
  {
   "cell_type": "markdown",
   "id": "18267914-7774-4673-a279-4b1a90295b86",
   "metadata": {},
   "source": [
    "## Números en Python"
   ]
  },
  {
   "cell_type": "code",
   "execution_count": 54,
   "id": "c73d2669-7e8c-42e6-83c4-d054b2ca365e",
   "metadata": {},
   "outputs": [
    {
     "data": {
      "text/plain": [
       "int"
      ]
     },
     "execution_count": 54,
     "metadata": {},
     "output_type": "execute_result"
    }
   ],
   "source": [
    "type(5)"
   ]
  },
  {
   "cell_type": "code",
   "execution_count": 55,
   "id": "b001c3da-1d2b-4ddf-a321-6c2a638b6340",
   "metadata": {},
   "outputs": [
    {
     "data": {
      "text/plain": [
       "float"
      ]
     },
     "execution_count": 55,
     "metadata": {},
     "output_type": "execute_result"
    }
   ],
   "source": [
    "type(5.0)"
   ]
  },
  {
   "cell_type": "code",
   "execution_count": 56,
   "id": "33b940d7-2c52-453e-982a-9465841aecdb",
   "metadata": {},
   "outputs": [
    {
     "data": {
      "text/plain": [
       "float"
      ]
     },
     "execution_count": 56,
     "metadata": {},
     "output_type": "execute_result"
    }
   ],
   "source": [
    "type(3.0)"
   ]
  },
  {
   "cell_type": "code",
   "execution_count": 57,
   "id": "af9f5d26-4ad7-45b9-b0e0-3bb636d5ab2a",
   "metadata": {},
   "outputs": [
    {
     "data": {
      "text/plain": [
       "float"
      ]
     },
     "execution_count": 57,
     "metadata": {},
     "output_type": "execute_result"
    }
   ],
   "source": [
    "type(3.)"
   ]
  },
  {
   "cell_type": "code",
   "execution_count": 58,
   "id": "981c1651-98ce-446a-a2e4-bfa84d028bb9",
   "metadata": {},
   "outputs": [
    {
     "data": {
      "text/plain": [
       "int"
      ]
     },
     "execution_count": 58,
     "metadata": {},
     "output_type": "execute_result"
    }
   ],
   "source": [
    "type(int(7.0))"
   ]
  },
  {
   "cell_type": "code",
   "execution_count": 59,
   "id": "847750bc-eac9-45c6-91df-0f7c86ff2e20",
   "metadata": {},
   "outputs": [
    {
     "data": {
      "text/plain": [
       "int"
      ]
     },
     "execution_count": 59,
     "metadata": {},
     "output_type": "execute_result"
    }
   ],
   "source": [
    "type(int(9.))"
   ]
  },
  {
   "cell_type": "code",
   "execution_count": 60,
   "id": "73e1e289-5ca2-42d2-8451-6b638295db6d",
   "metadata": {},
   "outputs": [
    {
     "data": {
      "text/plain": [
       "float"
      ]
     },
     "execution_count": 60,
     "metadata": {},
     "output_type": "execute_result"
    }
   ],
   "source": [
    "type(float(3))"
   ]
  },
  {
   "cell_type": "code",
   "execution_count": 61,
   "id": "68e7671a-4d95-4944-a2ea-87743109b72c",
   "metadata": {},
   "outputs": [
    {
     "data": {
      "text/plain": [
       "3"
      ]
     },
     "execution_count": 61,
     "metadata": {},
     "output_type": "execute_result"
    }
   ],
   "source": [
    "int(3.5)"
   ]
  },
  {
   "cell_type": "markdown",
   "id": "411dc424-9ee0-4aa5-aad7-58efaf8360b4",
   "metadata": {},
   "source": [
    "## Entrada de Datos"
   ]
  },
  {
   "cell_type": "code",
   "execution_count": 64,
   "id": "210d4ce3-9d59-41ad-aa4d-731a15f91b97",
   "metadata": {},
   "outputs": [
    {
     "name": "stdout",
     "output_type": "stream",
     "text": [
      " 10\n"
     ]
    }
   ],
   "source": [
    "x = input()"
   ]
  },
  {
   "cell_type": "code",
   "execution_count": 65,
   "id": "552739ae-6a67-4162-b028-0759544a64f0",
   "metadata": {},
   "outputs": [
    {
     "name": "stdout",
     "output_type": "stream",
     "text": [
      "10\n"
     ]
    }
   ],
   "source": [
    "print(x)"
   ]
  },
  {
   "cell_type": "code",
   "execution_count": 66,
   "id": "ad9d7fe7-a61a-499f-ad85-1aca4aeab5c7",
   "metadata": {},
   "outputs": [
    {
     "name": "stdout",
     "output_type": "stream",
     "text": [
      "Enter Your Name:  Luis\n"
     ]
    }
   ],
   "source": [
    "x = input(\"Enter Your Name: \")"
   ]
  },
  {
   "cell_type": "code",
   "execution_count": 67,
   "id": "2da613b4-1016-4759-8ae8-096d1de484d1",
   "metadata": {},
   "outputs": [
    {
     "name": "stdout",
     "output_type": "stream",
     "text": [
      "Luis\n"
     ]
    }
   ],
   "source": [
    "print(x)"
   ]
  },
  {
   "cell_type": "code",
   "execution_count": 68,
   "id": "a42cfad2-920a-4d0d-9a3d-b7d1048c58ee",
   "metadata": {},
   "outputs": [
    {
     "name": "stdout",
     "output_type": "stream",
     "text": [
      "Enter Your Name:  Alberto\n"
     ]
    }
   ],
   "source": [
    "x = input(\"Enter Your Name: \")"
   ]
  },
  {
   "cell_type": "code",
   "execution_count": 69,
   "id": "c7f08076-1466-4eee-91d7-2a0994a31249",
   "metadata": {},
   "outputs": [
    {
     "name": "stdout",
     "output_type": "stream",
     "text": [
      "Hello Alberto\n"
     ]
    }
   ],
   "source": [
    "print(\"Hello\",x)"
   ]
  },
  {
   "cell_type": "markdown",
   "id": "ebad6d44",
   "metadata": {},
   "source": [
    "### MUTABILIDAD"
   ]
  },
  {
   "cell_type": "code",
   "execution_count": 2,
   "id": "47737ca4",
   "metadata": {},
   "outputs": [],
   "source": [
    "a = 5"
   ]
  },
  {
   "cell_type": "code",
   "execution_count": 3,
   "id": "cddbbcd5",
   "metadata": {},
   "outputs": [],
   "source": [
    "b = a"
   ]
  },
  {
   "cell_type": "code",
   "execution_count": 4,
   "id": "7f295525",
   "metadata": {},
   "outputs": [
    {
     "data": {
      "text/plain": [
       "140705625260968"
      ]
     },
     "execution_count": 4,
     "metadata": {},
     "output_type": "execute_result"
    }
   ],
   "source": [
    "id(a)"
   ]
  },
  {
   "cell_type": "code",
   "execution_count": 5,
   "id": "5127eb34",
   "metadata": {},
   "outputs": [
    {
     "data": {
      "text/plain": [
       "140705625260968"
      ]
     },
     "execution_count": 5,
     "metadata": {},
     "output_type": "execute_result"
    }
   ],
   "source": [
    "id(b)"
   ]
  },
  {
   "cell_type": "code",
   "execution_count": 6,
   "id": "df0395ab",
   "metadata": {},
   "outputs": [
    {
     "data": {
      "text/plain": [
       "140705625261128"
      ]
     },
     "execution_count": 6,
     "metadata": {},
     "output_type": "execute_result"
    }
   ],
   "source": [
    "id(10)"
   ]
  },
  {
   "cell_type": "code",
   "execution_count": 7,
   "id": "ced801c7",
   "metadata": {},
   "outputs": [
    {
     "data": {
      "text/plain": [
       "140705625261448"
      ]
     },
     "execution_count": 7,
     "metadata": {},
     "output_type": "execute_result"
    }
   ],
   "source": [
    "id(20)"
   ]
  },
  {
   "cell_type": "code",
   "execution_count": 8,
   "id": "8d3d896a",
   "metadata": {},
   "outputs": [],
   "source": [
    "a = 5"
   ]
  },
  {
   "cell_type": "code",
   "execution_count": 9,
   "id": "6f3b7b21",
   "metadata": {},
   "outputs": [
    {
     "data": {
      "text/plain": [
       "140705625260968"
      ]
     },
     "execution_count": 9,
     "metadata": {},
     "output_type": "execute_result"
    }
   ],
   "source": [
    "id(a)"
   ]
  },
  {
   "cell_type": "code",
   "execution_count": 10,
   "id": "1a454975",
   "metadata": {},
   "outputs": [],
   "source": [
    "a = 7"
   ]
  },
  {
   "cell_type": "code",
   "execution_count": 11,
   "id": "10460c42",
   "metadata": {},
   "outputs": [
    {
     "data": {
      "text/plain": [
       "140705625261032"
      ]
     },
     "execution_count": 11,
     "metadata": {},
     "output_type": "execute_result"
    }
   ],
   "source": [
    "id(a)"
   ]
  },
  {
   "cell_type": "markdown",
   "id": "7a4da3f0",
   "metadata": {},
   "source": [
    "### Números Boleanos"
   ]
  },
  {
   "cell_type": "code",
   "execution_count": 12,
   "id": "8dcb1a68",
   "metadata": {},
   "outputs": [],
   "source": [
    "is_opened = True"
   ]
  },
  {
   "cell_type": "code",
   "execution_count": 13,
   "id": "c39aefb1",
   "metadata": {},
   "outputs": [
    {
     "data": {
      "text/plain": [
       "True"
      ]
     },
     "execution_count": 13,
     "metadata": {},
     "output_type": "execute_result"
    }
   ],
   "source": [
    "is_opened"
   ]
  },
  {
   "cell_type": "code",
   "execution_count": 14,
   "id": "ad05c8e8",
   "metadata": {},
   "outputs": [],
   "source": [
    "has_sugar = False"
   ]
  },
  {
   "cell_type": "code",
   "execution_count": 15,
   "id": "a32193f6",
   "metadata": {},
   "outputs": [
    {
     "data": {
      "text/plain": [
       "False"
      ]
     },
     "execution_count": 15,
     "metadata": {},
     "output_type": "execute_result"
    }
   ],
   "source": [
    "has_sugar"
   ]
  },
  {
   "cell_type": "markdown",
   "id": "07aa8053",
   "metadata": {},
   "source": [
    "### Enteros"
   ]
  },
  {
   "cell_type": "code",
   "execution_count": 16,
   "id": "3a405de7",
   "metadata": {},
   "outputs": [
    {
     "data": {
      "text/plain": [
       "8"
      ]
     },
     "execution_count": 16,
     "metadata": {},
     "output_type": "execute_result"
    }
   ],
   "source": [
    "8"
   ]
  },
  {
   "cell_type": "code",
   "execution_count": 17,
   "id": "acc1472b",
   "metadata": {},
   "outputs": [
    {
     "data": {
      "text/plain": [
       "0"
      ]
     },
     "execution_count": 17,
     "metadata": {},
     "output_type": "execute_result"
    }
   ],
   "source": [
    "0"
   ]
  },
  {
   "cell_type": "code",
   "execution_count": 18,
   "id": "a8d190a4",
   "metadata": {},
   "outputs": [
    {
     "ename": "SyntaxError",
     "evalue": "leading zeros in decimal integer literals are not permitted; use an 0o prefix for octal integers (1607649861.py, line 1)",
     "output_type": "error",
     "traceback": [
      "\u001b[1;36m  Cell \u001b[1;32mIn[18], line 1\u001b[1;36m\u001b[0m\n\u001b[1;33m    08\u001b[0m\n\u001b[1;37m    ^\u001b[0m\n\u001b[1;31mSyntaxError\u001b[0m\u001b[1;31m:\u001b[0m leading zeros in decimal integer literals are not permitted; use an 0o prefix for octal integers\n"
     ]
    }
   ],
   "source": [
    "08"
   ]
  },
  {
   "cell_type": "code",
   "execution_count": 19,
   "id": "d0281a28",
   "metadata": {},
   "outputs": [
    {
     "data": {
      "text/plain": [
       "99"
      ]
     },
     "execution_count": 19,
     "metadata": {},
     "output_type": "execute_result"
    }
   ],
   "source": [
    "99"
   ]
  },
  {
   "cell_type": "code",
   "execution_count": 20,
   "id": "44914aab",
   "metadata": {},
   "outputs": [
    {
     "data": {
      "text/plain": [
       "99"
      ]
     },
     "execution_count": 20,
     "metadata": {},
     "output_type": "execute_result"
    }
   ],
   "source": [
    "+99"
   ]
  },
  {
   "cell_type": "code",
   "execution_count": 21,
   "id": "ddf8ddf3",
   "metadata": {},
   "outputs": [
    {
     "data": {
      "text/plain": [
       "-99"
      ]
     },
     "execution_count": 21,
     "metadata": {},
     "output_type": "execute_result"
    }
   ],
   "source": [
    "-99"
   ]
  },
  {
   "cell_type": "code",
   "execution_count": 22,
   "id": "8b92fa43",
   "metadata": {},
   "outputs": [
    {
     "data": {
      "text/plain": [
       "3000000"
      ]
     },
     "execution_count": 22,
     "metadata": {},
     "output_type": "execute_result"
    }
   ],
   "source": [
    "3000000"
   ]
  },
  {
   "cell_type": "code",
   "execution_count": 23,
   "id": "1257134c",
   "metadata": {},
   "outputs": [
    {
     "data": {
      "text/plain": [
       "3000000"
      ]
     },
     "execution_count": 23,
     "metadata": {},
     "output_type": "execute_result"
    }
   ],
   "source": [
    "3_000_000"
   ]
  },
  {
   "cell_type": "code",
   "execution_count": 24,
   "id": "fff3158b",
   "metadata": {},
   "outputs": [
    {
     "data": {
      "text/plain": [
       "14"
      ]
     },
     "execution_count": 24,
     "metadata": {},
     "output_type": "execute_result"
    }
   ],
   "source": [
    "2 + 8 + 4"
   ]
  },
  {
   "cell_type": "code",
   "execution_count": 25,
   "id": "1129c490",
   "metadata": {},
   "outputs": [
    {
     "data": {
      "text/plain": [
       "256"
      ]
     },
     "execution_count": 25,
     "metadata": {},
     "output_type": "execute_result"
    }
   ],
   "source": [
    "4 ** 4"
   ]
  },
  {
   "cell_type": "code",
   "execution_count": 26,
   "id": "19fcf471",
   "metadata": {},
   "outputs": [
    {
     "data": {
      "text/plain": [
       "2.3333333333333335"
      ]
     },
     "execution_count": 26,
     "metadata": {},
     "output_type": "execute_result"
    }
   ],
   "source": [
    "7 / 3"
   ]
  },
  {
   "cell_type": "code",
   "execution_count": 27,
   "id": "0bae48c2",
   "metadata": {},
   "outputs": [
    {
     "data": {
      "text/plain": [
       "2"
      ]
     },
     "execution_count": 27,
     "metadata": {},
     "output_type": "execute_result"
    }
   ],
   "source": [
    "7 // 3"
   ]
  },
  {
   "cell_type": "code",
   "execution_count": 28,
   "id": "fea2dec7",
   "metadata": {},
   "outputs": [
    {
     "ename": "ZeroDivisionError",
     "evalue": "division by zero",
     "output_type": "error",
     "traceback": [
      "\u001b[1;31m---------------------------------------------------------------------------\u001b[0m",
      "\u001b[1;31mZeroDivisionError\u001b[0m                         Traceback (most recent call last)",
      "Cell \u001b[1;32mIn[28], line 1\u001b[0m\n\u001b[1;32m----> 1\u001b[0m \u001b[38;5;241m6\u001b[39m \u001b[38;5;241m/\u001b[39m \u001b[38;5;241m0\u001b[39m\n",
      "\u001b[1;31mZeroDivisionError\u001b[0m: division by zero"
     ]
    }
   ],
   "source": [
    "6 / 0"
   ]
  },
  {
   "cell_type": "markdown",
   "id": "85785cfb",
   "metadata": {},
   "source": [
    "### Operaciones Aritmeticas"
   ]
  },
  {
   "cell_type": "code",
   "execution_count": 29,
   "id": "55ad5364",
   "metadata": {},
   "outputs": [
    {
     "data": {
      "text/plain": [
       "6.0"
      ]
     },
     "execution_count": 29,
     "metadata": {},
     "output_type": "execute_result"
    }
   ],
   "source": [
    "2 ** 2 + 4 / 2"
   ]
  },
  {
   "cell_type": "code",
   "execution_count": 30,
   "id": "18e409eb",
   "metadata": {},
   "outputs": [
    {
     "data": {
      "text/plain": [
       "32.0"
      ]
     },
     "execution_count": 30,
     "metadata": {},
     "output_type": "execute_result"
    }
   ],
   "source": [
    "2 ** (2 + 4) / 2 "
   ]
  },
  {
   "cell_type": "code",
   "execution_count": 31,
   "id": "621eb57d",
   "metadata": {},
   "outputs": [
    {
     "data": {
      "text/plain": [
       "16.0"
      ]
     },
     "execution_count": 31,
     "metadata": {},
     "output_type": "execute_result"
    }
   ],
   "source": [
    "2 ** (2 + 4 / 2)"
   ]
  },
  {
   "cell_type": "code",
   "execution_count": 32,
   "id": "95c3dbd0",
   "metadata": {},
   "outputs": [
    {
     "data": {
      "text/plain": [
       "3"
      ]
     },
     "execution_count": 32,
     "metadata": {},
     "output_type": "execute_result"
    }
   ],
   "source": [
    "2 + 1"
   ]
  },
  {
   "cell_type": "code",
   "execution_count": 33,
   "id": "f659e763",
   "metadata": {},
   "outputs": [
    {
     "data": {
      "text/plain": [
       "3.0"
      ]
     },
     "execution_count": 33,
     "metadata": {},
     "output_type": "execute_result"
    }
   ],
   "source": [
    "2.0 + 1."
   ]
  },
  {
   "cell_type": "code",
   "execution_count": 34,
   "id": "76c07a9a",
   "metadata": {},
   "outputs": [
    {
     "data": {
      "text/plain": [
       "3.0"
      ]
     },
     "execution_count": 34,
     "metadata": {},
     "output_type": "execute_result"
    }
   ],
   "source": [
    "2 + 1.0"
   ]
  },
  {
   "cell_type": "code",
   "execution_count": 35,
   "id": "9a573794",
   "metadata": {},
   "outputs": [
    {
     "data": {
      "text/plain": [
       "4"
      ]
     },
     "execution_count": 35,
     "metadata": {},
     "output_type": "execute_result"
    }
   ],
   "source": [
    "7 - 3"
   ]
  },
  {
   "cell_type": "code",
   "execution_count": 36,
   "id": "a596a7b4",
   "metadata": {},
   "outputs": [
    {
     "data": {
      "text/plain": [
       "4.0"
      ]
     },
     "execution_count": 36,
     "metadata": {},
     "output_type": "execute_result"
    }
   ],
   "source": [
    "7.0 - 3."
   ]
  },
  {
   "cell_type": "code",
   "execution_count": 37,
   "id": "b985045c",
   "metadata": {},
   "outputs": [
    {
     "data": {
      "text/plain": [
       "4.0"
      ]
     },
     "execution_count": 37,
     "metadata": {},
     "output_type": "execute_result"
    }
   ],
   "source": [
    "7 - 3.0"
   ]
  },
  {
   "cell_type": "code",
   "execution_count": 38,
   "id": "5f4be637",
   "metadata": {},
   "outputs": [
    {
     "data": {
      "text/plain": [
       "48"
      ]
     },
     "execution_count": 38,
     "metadata": {},
     "output_type": "execute_result"
    }
   ],
   "source": [
    "8 * 6"
   ]
  },
  {
   "cell_type": "code",
   "execution_count": 39,
   "id": "9275ff19",
   "metadata": {},
   "outputs": [
    {
     "data": {
      "text/plain": [
       "48.0"
      ]
     },
     "execution_count": 39,
     "metadata": {},
     "output_type": "execute_result"
    }
   ],
   "source": [
    "8. * 6."
   ]
  },
  {
   "cell_type": "code",
   "execution_count": 40,
   "id": "aa6edb71",
   "metadata": {},
   "outputs": [
    {
     "data": {
      "text/plain": [
       "48.0"
      ]
     },
     "execution_count": 40,
     "metadata": {},
     "output_type": "execute_result"
    }
   ],
   "source": [
    "8.0 * 6"
   ]
  },
  {
   "cell_type": "code",
   "execution_count": 41,
   "id": "07b1fa9f",
   "metadata": {},
   "outputs": [
    {
     "data": {
      "text/plain": [
       "1.2"
      ]
     },
     "execution_count": 41,
     "metadata": {},
     "output_type": "execute_result"
    }
   ],
   "source": [
    "6 / 5"
   ]
  },
  {
   "cell_type": "code",
   "execution_count": 42,
   "id": "4f0b2eeb",
   "metadata": {},
   "outputs": [
    {
     "data": {
      "text/plain": [
       "1.2"
      ]
     },
     "execution_count": 42,
     "metadata": {},
     "output_type": "execute_result"
    }
   ],
   "source": [
    "6. / 5.0"
   ]
  },
  {
   "cell_type": "code",
   "execution_count": 43,
   "id": "8cbbfa95",
   "metadata": {},
   "outputs": [
    {
     "data": {
      "text/plain": [
       "1.2"
      ]
     },
     "execution_count": 43,
     "metadata": {},
     "output_type": "execute_result"
    }
   ],
   "source": [
    "6 / 5.0"
   ]
  },
  {
   "cell_type": "code",
   "execution_count": 44,
   "id": "eeb54fc8",
   "metadata": {},
   "outputs": [
    {
     "data": {
      "text/plain": [
       "3"
      ]
     },
     "execution_count": 44,
     "metadata": {},
     "output_type": "execute_result"
    }
   ],
   "source": [
    "10 // 3"
   ]
  },
  {
   "cell_type": "code",
   "execution_count": 45,
   "id": "d3ef4710",
   "metadata": {},
   "outputs": [
    {
     "data": {
      "text/plain": [
       "1"
      ]
     },
     "execution_count": 45,
     "metadata": {},
     "output_type": "execute_result"
    }
   ],
   "source": [
    "10 % 3"
   ]
  },
  {
   "cell_type": "code",
   "execution_count": 46,
   "id": "1e219f13",
   "metadata": {},
   "outputs": [
    {
     "data": {
      "text/plain": [
       "125"
      ]
     },
     "execution_count": 46,
     "metadata": {},
     "output_type": "execute_result"
    }
   ],
   "source": [
    "5 ** 3"
   ]
  },
  {
   "cell_type": "code",
   "execution_count": 47,
   "id": "bea0594e",
   "metadata": {},
   "outputs": [
    {
     "data": {
      "text/plain": [
       "125.0"
      ]
     },
     "execution_count": 47,
     "metadata": {},
     "output_type": "execute_result"
    }
   ],
   "source": [
    "5.0 ** 3.0"
   ]
  },
  {
   "cell_type": "code",
   "execution_count": 48,
   "id": "6e1d4b7e",
   "metadata": {},
   "outputs": [
    {
     "data": {
      "text/plain": [
       "125.0"
      ]
     },
     "execution_count": 48,
     "metadata": {},
     "output_type": "execute_result"
    }
   ],
   "source": [
    "5.0 ** 3"
   ]
  },
  {
   "cell_type": "code",
   "execution_count": 49,
   "id": "cd4b6eed",
   "metadata": {},
   "outputs": [
    {
     "data": {
      "text/plain": [
       "125"
      ]
     },
     "execution_count": 49,
     "metadata": {},
     "output_type": "execute_result"
    }
   ],
   "source": [
    "pow(5, 3)"
   ]
  },
  {
   "cell_type": "code",
   "execution_count": 50,
   "id": "ffaf0ed5",
   "metadata": {},
   "outputs": [
    {
     "data": {
      "text/plain": [
       "125.0"
      ]
     },
     "execution_count": 50,
     "metadata": {},
     "output_type": "execute_result"
    }
   ],
   "source": [
    "pow(5., 3.0)"
   ]
  },
  {
   "cell_type": "code",
   "execution_count": 51,
   "id": "ce082669",
   "metadata": {},
   "outputs": [
    {
     "data": {
      "text/plain": [
       "125.0"
      ]
     },
     "execution_count": 51,
     "metadata": {},
     "output_type": "execute_result"
    }
   ],
   "source": [
    "pow(5, 3.)"
   ]
  },
  {
   "cell_type": "code",
   "execution_count": 52,
   "id": "9c885c40",
   "metadata": {},
   "outputs": [
    {
     "data": {
      "text/plain": [
       "2.0"
      ]
     },
     "execution_count": 52,
     "metadata": {},
     "output_type": "execute_result"
    }
   ],
   "source": [
    "6 + 2 * 8 / 4 - 2 ** 3"
   ]
  },
  {
   "cell_type": "code",
   "execution_count": 53,
   "id": "9739521b",
   "metadata": {},
   "outputs": [
    {
     "data": {
      "text/plain": [
       "512.0"
      ]
     },
     "execution_count": 53,
     "metadata": {},
     "output_type": "execute_result"
    }
   ],
   "source": [
    "(6 + 2) * (8 / (4 - 2)) ** 3"
   ]
  },
  {
   "cell_type": "code",
   "execution_count": 54,
   "id": "85bb9eba",
   "metadata": {},
   "outputs": [
    {
     "data": {
      "text/plain": [
       "8.0"
      ]
     },
     "execution_count": 54,
     "metadata": {},
     "output_type": "execute_result"
    }
   ],
   "source": [
    "(6 + 2) * 8 / (4 -2) ** 3"
   ]
  },
  {
   "cell_type": "markdown",
   "id": "ac78b3f9",
   "metadata": {},
   "source": [
    "### Números complejos en Python"
   ]
  },
  {
   "cell_type": "code",
   "execution_count": 57,
   "id": "595c4501",
   "metadata": {},
   "outputs": [
    {
     "data": {
      "text/plain": [
       "(2+5j)"
      ]
     },
     "execution_count": 57,
     "metadata": {},
     "output_type": "execute_result"
    }
   ],
   "source": [
    "z = 2 + 5j\n",
    "z"
   ]
  },
  {
   "cell_type": "code",
   "execution_count": 58,
   "id": "b53b46d1",
   "metadata": {},
   "outputs": [
    {
     "data": {
      "text/plain": [
       "complex"
      ]
     },
     "execution_count": 58,
     "metadata": {},
     "output_type": "execute_result"
    }
   ],
   "source": [
    "type(z)"
   ]
  },
  {
   "cell_type": "code",
   "execution_count": 59,
   "id": "915f7e4c",
   "metadata": {},
   "outputs": [
    {
     "data": {
      "text/plain": [
       "(1-7j)"
      ]
     },
     "execution_count": 59,
     "metadata": {},
     "output_type": "execute_result"
    }
   ],
   "source": [
    "z = complex(1, -7)\n",
    "z"
   ]
  },
  {
   "cell_type": "code",
   "execution_count": 60,
   "id": "86035bca",
   "metadata": {},
   "outputs": [
    {
     "data": {
      "text/plain": [
       "complex"
      ]
     },
     "execution_count": 60,
     "metadata": {},
     "output_type": "execute_result"
    }
   ],
   "source": [
    "type(z)"
   ]
  },
  {
   "cell_type": "code",
   "execution_count": 61,
   "id": "4184d162",
   "metadata": {},
   "outputs": [
    {
     "data": {
      "text/plain": [
       "1.0"
      ]
     },
     "execution_count": 61,
     "metadata": {},
     "output_type": "execute_result"
    }
   ],
   "source": [
    "z.real"
   ]
  },
  {
   "cell_type": "code",
   "execution_count": 62,
   "id": "fcdfaae5",
   "metadata": {},
   "outputs": [
    {
     "data": {
      "text/plain": [
       "-7.0"
      ]
     },
     "execution_count": 62,
     "metadata": {},
     "output_type": "execute_result"
    }
   ],
   "source": [
    "z.imag"
   ]
  },
  {
   "cell_type": "code",
   "execution_count": 63,
   "id": "a8303e2e",
   "metadata": {},
   "outputs": [
    {
     "data": {
      "text/plain": [
       "(7-2j)"
      ]
     },
     "execution_count": 63,
     "metadata": {},
     "output_type": "execute_result"
    }
   ],
   "source": [
    "z1 = 2-6j\n",
    "z2 = 5+4j\n",
    "\n",
    "z1 + z2"
   ]
  },
  {
   "cell_type": "code",
   "execution_count": 64,
   "id": "310b3066",
   "metadata": {},
   "outputs": [
    {
     "data": {
      "text/plain": [
       "(-3-10j)"
      ]
     },
     "execution_count": 64,
     "metadata": {},
     "output_type": "execute_result"
    }
   ],
   "source": [
    "z1 - z2"
   ]
  },
  {
   "cell_type": "code",
   "execution_count": 65,
   "id": "635d7417",
   "metadata": {},
   "outputs": [
    {
     "data": {
      "text/plain": [
       "(-2+6j)"
      ]
     },
     "execution_count": 65,
     "metadata": {},
     "output_type": "execute_result"
    }
   ],
   "source": [
    "-1 * z1"
   ]
  },
  {
   "cell_type": "code",
   "execution_count": 66,
   "id": "64f4c93d",
   "metadata": {},
   "outputs": [
    {
     "data": {
      "text/plain": [
       "(34-22j)"
      ]
     },
     "execution_count": 66,
     "metadata": {},
     "output_type": "execute_result"
    }
   ],
   "source": [
    "z1 * z2"
   ]
  },
  {
   "cell_type": "code",
   "execution_count": 67,
   "id": "865fb62e",
   "metadata": {},
   "outputs": [
    {
     "data": {
      "text/plain": [
       "-1j"
      ]
     },
     "execution_count": 67,
     "metadata": {},
     "output_type": "execute_result"
    }
   ],
   "source": [
    "z1 = -1 - 1j\n",
    "z2 = 1 - 1j\n",
    "\n",
    "z1 / z2"
   ]
  },
  {
   "cell_type": "code",
   "execution_count": 68,
   "id": "8591db4d",
   "metadata": {},
   "outputs": [
    {
     "data": {
      "text/plain": [
       "(-2-1j)"
      ]
     },
     "execution_count": 68,
     "metadata": {},
     "output_type": "execute_result"
    }
   ],
   "source": [
    "z = -2 + 1j\n",
    "z.conjugate()"
   ]
  },
  {
   "cell_type": "code",
   "execution_count": 69,
   "id": "85c2e3ad",
   "metadata": {},
   "outputs": [
    {
     "data": {
      "text/plain": [
       "2.0"
      ]
     },
     "execution_count": 69,
     "metadata": {},
     "output_type": "execute_result"
    }
   ],
   "source": [
    "z = -2j\n",
    "abs(z)"
   ]
  },
  {
   "cell_type": "markdown",
   "id": "4030e6f8",
   "metadata": {},
   "source": [
    "### Asignación aumentada"
   ]
  },
  {
   "cell_type": "code",
   "execution_count": 72,
   "id": "950e6412",
   "metadata": {},
   "outputs": [
    {
     "data": {
      "text/plain": [
       "80"
      ]
     },
     "execution_count": 72,
     "metadata": {},
     "output_type": "execute_result"
    }
   ],
   "source": [
    "total_cars = 100\n",
    "sold_cars = 20\n",
    "total_cars = total_cars - sold_cars\n",
    "total_cars"
   ]
  },
  {
   "cell_type": "code",
   "execution_count": 73,
   "id": "64805cc8",
   "metadata": {},
   "outputs": [
    {
     "data": {
      "text/plain": [
       "80"
      ]
     },
     "execution_count": 73,
     "metadata": {},
     "output_type": "execute_result"
    }
   ],
   "source": [
    "total_cars = 100\n",
    "sold_cars = 20\n",
    "total_cars -= sold_cars\n",
    "total_cars"
   ]
  },
  {
   "cell_type": "code",
   "execution_count": 80,
   "id": "27bc4a90",
   "metadata": {},
   "outputs": [],
   "source": [
    "random_number = 15"
   ]
  },
  {
   "cell_type": "code",
   "execution_count": 81,
   "id": "eed90048",
   "metadata": {},
   "outputs": [
    {
     "data": {
      "text/plain": [
       "20"
      ]
     },
     "execution_count": 81,
     "metadata": {},
     "output_type": "execute_result"
    }
   ],
   "source": [
    "random_number += 5\n",
    "random_number"
   ]
  },
  {
   "cell_type": "code",
   "execution_count": 82,
   "id": "446a9b61",
   "metadata": {},
   "outputs": [
    {
     "data": {
      "text/plain": [
       "60"
      ]
     },
     "execution_count": 82,
     "metadata": {},
     "output_type": "execute_result"
    }
   ],
   "source": [
    "random_number *= 3\n",
    "random_number"
   ]
  },
  {
   "cell_type": "code",
   "execution_count": 83,
   "id": "91c13484",
   "metadata": {},
   "outputs": [
    {
     "data": {
      "text/plain": [
       "15"
      ]
     },
     "execution_count": 83,
     "metadata": {},
     "output_type": "execute_result"
    }
   ],
   "source": [
    "random_number //= 4\n",
    "random_number"
   ]
  },
  {
   "cell_type": "code",
   "execution_count": 84,
   "id": "8c4b340b",
   "metadata": {},
   "outputs": [
    {
     "data": {
      "text/plain": [
       "15"
      ]
     },
     "execution_count": 84,
     "metadata": {},
     "output_type": "execute_result"
    }
   ],
   "source": [
    "random_number **= 1\n",
    "random_number"
   ]
  },
  {
   "cell_type": "markdown",
   "id": "49fb81d8",
   "metadata": {},
   "source": [
    "### Módulo"
   ]
  },
  {
   "cell_type": "code",
   "execution_count": 88,
   "id": "a5cee317",
   "metadata": {},
   "outputs": [],
   "source": [
    "dividendo = 17\n",
    "divisor = 5"
   ]
  },
  {
   "cell_type": "code",
   "execution_count": 89,
   "id": "be87b781",
   "metadata": {},
   "outputs": [],
   "source": [
    "cociente = dividendo // divisor # Divisón entera\n",
    "resto = dividendo % divisor"
   ]
  },
  {
   "cell_type": "code",
   "execution_count": 90,
   "id": "5a0b44fb",
   "metadata": {},
   "outputs": [
    {
     "data": {
      "text/plain": [
       "3"
      ]
     },
     "execution_count": 90,
     "metadata": {},
     "output_type": "execute_result"
    }
   ],
   "source": [
    "cociente"
   ]
  },
  {
   "cell_type": "code",
   "execution_count": 91,
   "id": "67d39aad",
   "metadata": {},
   "outputs": [
    {
     "data": {
      "text/plain": [
       "2"
      ]
     },
     "execution_count": 91,
     "metadata": {},
     "output_type": "execute_result"
    }
   ],
   "source": [
    "resto"
   ]
  },
  {
   "cell_type": "markdown",
   "id": "524fbc56",
   "metadata": {},
   "source": [
    "### Valor absoluto"
   ]
  },
  {
   "cell_type": "code",
   "execution_count": 92,
   "id": "2ccff560",
   "metadata": {},
   "outputs": [
    {
     "data": {
      "text/plain": [
       "1"
      ]
     },
     "execution_count": 92,
     "metadata": {},
     "output_type": "execute_result"
    }
   ],
   "source": [
    "abs(-1)"
   ]
  },
  {
   "cell_type": "code",
   "execution_count": 93,
   "id": "c2c13a17",
   "metadata": {},
   "outputs": [
    {
     "data": {
      "text/plain": [
       "1"
      ]
     },
     "execution_count": 93,
     "metadata": {},
     "output_type": "execute_result"
    }
   ],
   "source": [
    "abs(1)"
   ]
  },
  {
   "cell_type": "code",
   "execution_count": 94,
   "id": "d2494e7f",
   "metadata": {},
   "outputs": [
    {
     "data": {
      "text/plain": [
       "3.14"
      ]
     },
     "execution_count": 94,
     "metadata": {},
     "output_type": "execute_result"
    }
   ],
   "source": [
    "abs(-3.14)"
   ]
  },
  {
   "cell_type": "code",
   "execution_count": 95,
   "id": "300eb675",
   "metadata": {},
   "outputs": [
    {
     "data": {
      "text/plain": [
       "3.14"
      ]
     },
     "execution_count": 95,
     "metadata": {},
     "output_type": "execute_result"
    }
   ],
   "source": [
    "abs(3.14)"
   ]
  },
  {
   "cell_type": "markdown",
   "id": "30ae76cc",
   "metadata": {},
   "source": [
    "### Limite de un entero"
   ]
  },
  {
   "cell_type": "code",
   "execution_count": 96,
   "id": "d5d7cc47",
   "metadata": {},
   "outputs": [],
   "source": [
    "centillion = 10 ** 600"
   ]
  },
  {
   "cell_type": "code",
   "execution_count": 97,
   "id": "88171c2e",
   "metadata": {},
   "outputs": [
    {
     "data": {
      "text/plain": [
       "1000000000000000000000000000000000000000000000000000000000000000000000000000000000000000000000000000000000000000000000000000000000000000000000000000000000000000000000000000000000000000000000000000000000000000000000000000000000000000000000000000000000000000000000000000000000000000000000000000000000000000000000000000000000000000000000000000000000000000000000000000000000000000000000000000000000000000000000000000000000000000000000000000000000000000000000000000000000000000000000000000000000000000000000000000000000000000000000000000000000000000000000000000000000000000000000000000000000000000000000000"
      ]
     },
     "execution_count": 97,
     "metadata": {},
     "output_type": "execute_result"
    }
   ],
   "source": [
    "centillion"
   ]
  },
  {
   "cell_type": "code",
   "execution_count": 98,
   "id": "b2bca964",
   "metadata": {},
   "outputs": [
    {
     "ename": "ValueError",
     "evalue": "Exceeds the limit (4300 digits) for integer string conversion; use sys.set_int_max_str_digits() to increase the limit",
     "output_type": "error",
     "traceback": [
      "\u001b[1;31m---------------------------------------------------------------------------\u001b[0m",
      "\u001b[1;31mValueError\u001b[0m                                Traceback (most recent call last)",
      "File \u001b[1;32mc:\\Users\\CursosTardes\\.conda\\envs\\Curso_Python_2024\\Lib\\site-packages\\IPython\\core\\formatters.py:708\u001b[0m, in \u001b[0;36mPlainTextFormatter.__call__\u001b[1;34m(self, obj)\u001b[0m\n\u001b[0;32m    701\u001b[0m stream \u001b[38;5;241m=\u001b[39m StringIO()\n\u001b[0;32m    702\u001b[0m printer \u001b[38;5;241m=\u001b[39m pretty\u001b[38;5;241m.\u001b[39mRepresentationPrinter(stream, \u001b[38;5;28mself\u001b[39m\u001b[38;5;241m.\u001b[39mverbose,\n\u001b[0;32m    703\u001b[0m     \u001b[38;5;28mself\u001b[39m\u001b[38;5;241m.\u001b[39mmax_width, \u001b[38;5;28mself\u001b[39m\u001b[38;5;241m.\u001b[39mnewline,\n\u001b[0;32m    704\u001b[0m     max_seq_length\u001b[38;5;241m=\u001b[39m\u001b[38;5;28mself\u001b[39m\u001b[38;5;241m.\u001b[39mmax_seq_length,\n\u001b[0;32m    705\u001b[0m     singleton_pprinters\u001b[38;5;241m=\u001b[39m\u001b[38;5;28mself\u001b[39m\u001b[38;5;241m.\u001b[39msingleton_printers,\n\u001b[0;32m    706\u001b[0m     type_pprinters\u001b[38;5;241m=\u001b[39m\u001b[38;5;28mself\u001b[39m\u001b[38;5;241m.\u001b[39mtype_printers,\n\u001b[0;32m    707\u001b[0m     deferred_pprinters\u001b[38;5;241m=\u001b[39m\u001b[38;5;28mself\u001b[39m\u001b[38;5;241m.\u001b[39mdeferred_printers)\n\u001b[1;32m--> 708\u001b[0m printer\u001b[38;5;241m.\u001b[39mpretty(obj)\n\u001b[0;32m    709\u001b[0m printer\u001b[38;5;241m.\u001b[39mflush()\n\u001b[0;32m    710\u001b[0m \u001b[38;5;28;01mreturn\u001b[39;00m stream\u001b[38;5;241m.\u001b[39mgetvalue()\n",
      "File \u001b[1;32mc:\\Users\\CursosTardes\\.conda\\envs\\Curso_Python_2024\\Lib\\site-packages\\IPython\\lib\\pretty.py:393\u001b[0m, in \u001b[0;36mRepresentationPrinter.pretty\u001b[1;34m(self, obj)\u001b[0m\n\u001b[0;32m    390\u001b[0m \u001b[38;5;28;01mfor\u001b[39;00m \u001b[38;5;28mcls\u001b[39m \u001b[38;5;129;01min\u001b[39;00m _get_mro(obj_class):\n\u001b[0;32m    391\u001b[0m     \u001b[38;5;28;01mif\u001b[39;00m \u001b[38;5;28mcls\u001b[39m \u001b[38;5;129;01min\u001b[39;00m \u001b[38;5;28mself\u001b[39m\u001b[38;5;241m.\u001b[39mtype_pprinters:\n\u001b[0;32m    392\u001b[0m         \u001b[38;5;66;03m# printer registered in self.type_pprinters\u001b[39;00m\n\u001b[1;32m--> 393\u001b[0m         \u001b[38;5;28;01mreturn\u001b[39;00m \u001b[38;5;28mself\u001b[39m\u001b[38;5;241m.\u001b[39mtype_pprinters[\u001b[38;5;28mcls\u001b[39m](obj, \u001b[38;5;28mself\u001b[39m, cycle)\n\u001b[0;32m    394\u001b[0m     \u001b[38;5;28;01melse\u001b[39;00m:\n\u001b[0;32m    395\u001b[0m         \u001b[38;5;66;03m# deferred printer\u001b[39;00m\n\u001b[0;32m    396\u001b[0m         printer \u001b[38;5;241m=\u001b[39m \u001b[38;5;28mself\u001b[39m\u001b[38;5;241m.\u001b[39m_in_deferred_types(\u001b[38;5;28mcls\u001b[39m)\n",
      "File \u001b[1;32mc:\\Users\\CursosTardes\\.conda\\envs\\Curso_Python_2024\\Lib\\site-packages\\IPython\\lib\\pretty.py:778\u001b[0m, in \u001b[0;36m_repr_pprint\u001b[1;34m(obj, p, cycle)\u001b[0m\n\u001b[0;32m    776\u001b[0m \u001b[38;5;250m\u001b[39m\u001b[38;5;124;03m\"\"\"A pprint that just redirects to the normal repr function.\"\"\"\u001b[39;00m\n\u001b[0;32m    777\u001b[0m \u001b[38;5;66;03m# Find newlines and replace them with p.break_()\u001b[39;00m\n\u001b[1;32m--> 778\u001b[0m output \u001b[38;5;241m=\u001b[39m \u001b[38;5;28mrepr\u001b[39m(obj)\n\u001b[0;32m    779\u001b[0m lines \u001b[38;5;241m=\u001b[39m output\u001b[38;5;241m.\u001b[39msplitlines()\n\u001b[0;32m    780\u001b[0m \u001b[38;5;28;01mwith\u001b[39;00m p\u001b[38;5;241m.\u001b[39mgroup():\n",
      "\u001b[1;31mValueError\u001b[0m: Exceeds the limit (4300 digits) for integer string conversion; use sys.set_int_max_str_digits() to increase the limit"
     ]
    }
   ],
   "source": [
    "10 ** 10_000"
   ]
  },
  {
   "cell_type": "markdown",
   "id": "1048fc03",
   "metadata": {},
   "source": [
    "## Conversión de tipos\n",
    "### Conversión implícita"
   ]
  },
  {
   "cell_type": "code",
   "execution_count": 99,
   "id": "c288b626",
   "metadata": {},
   "outputs": [
    {
     "data": {
      "text/plain": [
       "26"
      ]
     },
     "execution_count": 99,
     "metadata": {},
     "output_type": "execute_result"
    }
   ],
   "source": [
    "True + 25 "
   ]
  },
  {
   "cell_type": "code",
   "execution_count": 100,
   "id": "771b96d6",
   "metadata": {},
   "outputs": [
    {
     "data": {
      "text/plain": [
       "0"
      ]
     },
     "execution_count": 100,
     "metadata": {},
     "output_type": "execute_result"
    }
   ],
   "source": [
    "7 * False"
   ]
  },
  {
   "cell_type": "code",
   "execution_count": 101,
   "id": "da6fb261",
   "metadata": {},
   "outputs": [
    {
     "data": {
      "text/plain": [
       "1"
      ]
     },
     "execution_count": 101,
     "metadata": {},
     "output_type": "execute_result"
    }
   ],
   "source": [
    "True + False"
   ]
  },
  {
   "cell_type": "code",
   "execution_count": 102,
   "id": "b0a77225",
   "metadata": {},
   "outputs": [
    {
     "data": {
      "text/plain": [
       "22.8"
      ]
     },
     "execution_count": 102,
     "metadata": {},
     "output_type": "execute_result"
    }
   ],
   "source": [
    "21.8 + True"
   ]
  },
  {
   "cell_type": "code",
   "execution_count": 103,
   "id": "f8445872",
   "metadata": {},
   "outputs": [
    {
     "data": {
      "text/plain": [
       "21.3"
      ]
     },
     "execution_count": 103,
     "metadata": {},
     "output_type": "execute_result"
    }
   ],
   "source": [
    "10 + 11.3"
   ]
  },
  {
   "cell_type": "markdown",
   "id": "2f9af7c9",
   "metadata": {},
   "source": [
    "### Conversión explicita "
   ]
  },
  {
   "cell_type": "code",
   "execution_count": 104,
   "id": "ececc82e",
   "metadata": {},
   "outputs": [
    {
     "data": {
      "text/plain": [
       "True"
      ]
     },
     "execution_count": 104,
     "metadata": {},
     "output_type": "execute_result"
    }
   ],
   "source": [
    "bool(1)"
   ]
  },
  {
   "cell_type": "code",
   "execution_count": 105,
   "id": "c4112a81",
   "metadata": {},
   "outputs": [
    {
     "data": {
      "text/plain": [
       "False"
      ]
     },
     "execution_count": 105,
     "metadata": {},
     "output_type": "execute_result"
    }
   ],
   "source": [
    "bool(0)"
   ]
  },
  {
   "cell_type": "code",
   "execution_count": 106,
   "id": "37ff6499",
   "metadata": {},
   "outputs": [
    {
     "data": {
      "text/plain": [
       "1"
      ]
     },
     "execution_count": 106,
     "metadata": {},
     "output_type": "execute_result"
    }
   ],
   "source": [
    "int(True)"
   ]
  },
  {
   "cell_type": "code",
   "execution_count": 107,
   "id": "b0d5eae5",
   "metadata": {},
   "outputs": [
    {
     "data": {
      "text/plain": [
       "0"
      ]
     },
     "execution_count": 107,
     "metadata": {},
     "output_type": "execute_result"
    }
   ],
   "source": [
    "int(False)"
   ]
  },
  {
   "cell_type": "code",
   "execution_count": 108,
   "id": "5ca3869c",
   "metadata": {},
   "outputs": [
    {
     "data": {
      "text/plain": [
       "1.0"
      ]
     },
     "execution_count": 108,
     "metadata": {},
     "output_type": "execute_result"
    }
   ],
   "source": [
    "float(1)"
   ]
  },
  {
   "cell_type": "code",
   "execution_count": 109,
   "id": "bdcf27eb",
   "metadata": {},
   "outputs": [
    {
     "data": {
      "text/plain": [
       "0.0"
      ]
     },
     "execution_count": 109,
     "metadata": {},
     "output_type": "execute_result"
    }
   ],
   "source": [
    "float(0)"
   ]
  },
  {
   "cell_type": "code",
   "execution_count": 111,
   "id": "7c35ace0",
   "metadata": {},
   "outputs": [
    {
     "data": {
      "text/plain": [
       "1.0"
      ]
     },
     "execution_count": 111,
     "metadata": {},
     "output_type": "execute_result"
    }
   ],
   "source": [
    "float(True)"
   ]
  },
  {
   "cell_type": "code",
   "execution_count": 112,
   "id": "4a5dbeaa",
   "metadata": {},
   "outputs": [
    {
     "data": {
      "text/plain": [
       "0.0"
      ]
     },
     "execution_count": 112,
     "metadata": {},
     "output_type": "execute_result"
    }
   ],
   "source": [
    "float(False)"
   ]
  },
  {
   "cell_type": "code",
   "execution_count": 113,
   "id": "b1620cfc",
   "metadata": {},
   "outputs": [
    {
     "data": {
      "text/plain": [
       "3"
      ]
     },
     "execution_count": 113,
     "metadata": {},
     "output_type": "execute_result"
    }
   ],
   "source": [
    "int(3.1)"
   ]
  },
  {
   "cell_type": "code",
   "execution_count": 114,
   "id": "cbb6440e",
   "metadata": {},
   "outputs": [
    {
     "data": {
      "text/plain": [
       "3"
      ]
     },
     "execution_count": 114,
     "metadata": {},
     "output_type": "execute_result"
    }
   ],
   "source": [
    "int(3.5)"
   ]
  },
  {
   "cell_type": "code",
   "execution_count": 115,
   "id": "87de391e",
   "metadata": {},
   "outputs": [
    {
     "data": {
      "text/plain": [
       "3"
      ]
     },
     "execution_count": 115,
     "metadata": {},
     "output_type": "execute_result"
    }
   ],
   "source": [
    "int(3.9)"
   ]
  },
  {
   "cell_type": "markdown",
   "id": "ce80003d",
   "metadata": {},
   "source": [
    "ERROR DE APROXIMACIÓN!!"
   ]
  },
  {
   "cell_type": "code",
   "execution_count": 116,
   "id": "dcf1ddcd",
   "metadata": {},
   "outputs": [
    {
     "data": {
      "text/plain": [
       "0.9999999999999999"
      ]
     },
     "execution_count": 116,
     "metadata": {},
     "output_type": "execute_result"
    }
   ],
   "source": [
    "(19 / 155) * (155 / 19)"
   ]
  },
  {
   "cell_type": "code",
   "execution_count": 118,
   "id": "e9afeeaf",
   "metadata": {},
   "outputs": [],
   "source": [
    "pi = 3.14159265359"
   ]
  },
  {
   "cell_type": "code",
   "execution_count": 119,
   "id": "0392355f",
   "metadata": {},
   "outputs": [
    {
     "data": {
      "text/plain": [
       "3"
      ]
     },
     "execution_count": 119,
     "metadata": {},
     "output_type": "execute_result"
    }
   ],
   "source": [
    "round(pi)"
   ]
  },
  {
   "cell_type": "code",
   "execution_count": 120,
   "id": "7cc6859c",
   "metadata": {},
   "outputs": [
    {
     "data": {
      "text/plain": [
       "3.1"
      ]
     },
     "execution_count": 120,
     "metadata": {},
     "output_type": "execute_result"
    }
   ],
   "source": [
    "round(pi, 1)"
   ]
  },
  {
   "cell_type": "code",
   "execution_count": 121,
   "id": "daf6d09a",
   "metadata": {},
   "outputs": [
    {
     "data": {
      "text/plain": [
       "3.14"
      ]
     },
     "execution_count": 121,
     "metadata": {},
     "output_type": "execute_result"
    }
   ],
   "source": [
    "round(pi, 2)"
   ]
  },
  {
   "cell_type": "code",
   "execution_count": 122,
   "id": "45348454",
   "metadata": {},
   "outputs": [
    {
     "data": {
      "text/plain": [
       "3.142"
      ]
     },
     "execution_count": 122,
     "metadata": {},
     "output_type": "execute_result"
    }
   ],
   "source": [
    "round(pi, 3)"
   ]
  },
  {
   "cell_type": "code",
   "execution_count": 123,
   "id": "3c44534d",
   "metadata": {},
   "outputs": [
    {
     "data": {
      "text/plain": [
       "3.1416"
      ]
     },
     "execution_count": 123,
     "metadata": {},
     "output_type": "execute_result"
    }
   ],
   "source": [
    "round(pi, 4)"
   ]
  },
  {
   "cell_type": "code",
   "execution_count": 124,
   "id": "88120427",
   "metadata": {},
   "outputs": [
    {
     "data": {
      "text/plain": [
       "3.14159"
      ]
     },
     "execution_count": 124,
     "metadata": {},
     "output_type": "execute_result"
    }
   ],
   "source": [
    "round(pi, 5)"
   ]
  },
  {
   "cell_type": "code",
   "execution_count": 125,
   "id": "d74aa112",
   "metadata": {},
   "outputs": [],
   "source": [
    "result = (19 / 155) * (155 / 19)"
   ]
  },
  {
   "cell_type": "code",
   "execution_count": 126,
   "id": "99e0499b",
   "metadata": {},
   "outputs": [
    {
     "data": {
      "text/plain": [
       "1.0"
      ]
     },
     "execution_count": 126,
     "metadata": {},
     "output_type": "execute_result"
    }
   ],
   "source": [
    "round(result, 1)"
   ]
  },
  {
   "cell_type": "markdown",
   "id": "5cb88845",
   "metadata": {},
   "source": [
    "### Límite de un flotante"
   ]
  },
  {
   "cell_type": "code",
   "execution_count": 127,
   "id": "5939148d",
   "metadata": {},
   "outputs": [],
   "source": [
    "import sys"
   ]
  },
  {
   "cell_type": "code",
   "execution_count": 128,
   "id": "4d8b79f3",
   "metadata": {},
   "outputs": [
    {
     "data": {
      "text/plain": [
       "2.2250738585072014e-308"
      ]
     },
     "execution_count": 128,
     "metadata": {},
     "output_type": "execute_result"
    }
   ],
   "source": [
    "sys.float_info.min"
   ]
  },
  {
   "cell_type": "code",
   "execution_count": 129,
   "id": "a169b87e",
   "metadata": {},
   "outputs": [
    {
     "data": {
      "text/plain": [
       "1.7976931348623157e+308"
      ]
     },
     "execution_count": 129,
     "metadata": {},
     "output_type": "execute_result"
    }
   ],
   "source": [
    "sys.float_info.max"
   ]
  },
  {
   "cell_type": "markdown",
   "id": "a983c0c8",
   "metadata": {},
   "source": [
    "## Bases\n",
    "### Base binaria"
   ]
  },
  {
   "cell_type": "code",
   "execution_count": 130,
   "id": "0376edda",
   "metadata": {},
   "outputs": [
    {
     "data": {
      "text/plain": [
       "9"
      ]
     },
     "execution_count": 130,
     "metadata": {},
     "output_type": "execute_result"
    }
   ],
   "source": [
    "0b1001"
   ]
  },
  {
   "cell_type": "code",
   "execution_count": 131,
   "id": "dc7a28a5",
   "metadata": {},
   "outputs": [
    {
     "data": {
      "text/plain": [
       "12"
      ]
     },
     "execution_count": 131,
     "metadata": {},
     "output_type": "execute_result"
    }
   ],
   "source": [
    "0b1100"
   ]
  },
  {
   "cell_type": "code",
   "execution_count": 132,
   "id": "fc65b066",
   "metadata": {},
   "outputs": [
    {
     "data": {
      "text/plain": [
       "'0b1001'"
      ]
     },
     "execution_count": 132,
     "metadata": {},
     "output_type": "execute_result"
    }
   ],
   "source": [
    "bin(9)"
   ]
  },
  {
   "cell_type": "code",
   "execution_count": 133,
   "id": "014133b0",
   "metadata": {},
   "outputs": [
    {
     "data": {
      "text/plain": [
       "'0b1100'"
      ]
     },
     "execution_count": 133,
     "metadata": {},
     "output_type": "execute_result"
    }
   ],
   "source": [
    "bin(12)"
   ]
  },
  {
   "cell_type": "markdown",
   "id": "0cf8ce3a",
   "metadata": {},
   "source": [
    "### Base Octal"
   ]
  },
  {
   "cell_type": "code",
   "execution_count": 134,
   "id": "32678832",
   "metadata": {},
   "outputs": [
    {
     "data": {
      "text/plain": [
       "3235"
      ]
     },
     "execution_count": 134,
     "metadata": {},
     "output_type": "execute_result"
    }
   ],
   "source": [
    "0o6243"
   ]
  },
  {
   "cell_type": "code",
   "execution_count": 135,
   "id": "1fac9923",
   "metadata": {},
   "outputs": [
    {
     "data": {
      "text/plain": [
       "687"
      ]
     },
     "execution_count": 135,
     "metadata": {},
     "output_type": "execute_result"
    }
   ],
   "source": [
    "0o1257"
   ]
  },
  {
   "cell_type": "code",
   "execution_count": 136,
   "id": "158f5fa5",
   "metadata": {},
   "outputs": [
    {
     "data": {
      "text/plain": [
       "'0o6243'"
      ]
     },
     "execution_count": 136,
     "metadata": {},
     "output_type": "execute_result"
    }
   ],
   "source": [
    "oct(3235)"
   ]
  },
  {
   "cell_type": "code",
   "execution_count": 137,
   "id": "636c783e",
   "metadata": {},
   "outputs": [
    {
     "data": {
      "text/plain": [
       "'0o1257'"
      ]
     },
     "execution_count": 137,
     "metadata": {},
     "output_type": "execute_result"
    }
   ],
   "source": [
    "oct(687)"
   ]
  },
  {
   "cell_type": "markdown",
   "id": "d4ddf095",
   "metadata": {},
   "source": [
    "### Base hexadecimal"
   ]
  },
  {
   "cell_type": "code",
   "execution_count": 138,
   "id": "d5699606",
   "metadata": {},
   "outputs": [
    {
     "data": {
      "text/plain": [
       "32554"
      ]
     },
     "execution_count": 138,
     "metadata": {},
     "output_type": "execute_result"
    }
   ],
   "source": [
    "0x7F2A"
   ]
  },
  {
   "cell_type": "code",
   "execution_count": 139,
   "id": "6118ab53",
   "metadata": {},
   "outputs": [
    {
     "data": {
      "text/plain": [
       "18687"
      ]
     },
     "execution_count": 139,
     "metadata": {},
     "output_type": "execute_result"
    }
   ],
   "source": [
    "0x48FF"
   ]
  },
  {
   "cell_type": "code",
   "execution_count": 140,
   "id": "5152b2f0",
   "metadata": {},
   "outputs": [
    {
     "data": {
      "text/plain": [
       "'0x7f2a'"
      ]
     },
     "execution_count": 140,
     "metadata": {},
     "output_type": "execute_result"
    }
   ],
   "source": [
    "hex(32554)"
   ]
  },
  {
   "cell_type": "code",
   "execution_count": 141,
   "id": "832d896a",
   "metadata": {},
   "outputs": [
    {
     "data": {
      "text/plain": [
       "'0x48ff'"
      ]
     },
     "execution_count": 141,
     "metadata": {},
     "output_type": "execute_result"
    }
   ],
   "source": [
    "hex(18687)"
   ]
  },
  {
   "cell_type": "code",
   "execution_count": null,
   "id": "49a993c5",
   "metadata": {},
   "outputs": [],
   "source": []
  }
 ],
 "metadata": {
  "kernelspec": {
   "display_name": "Python 3 (ipykernel)",
   "language": "python",
   "name": "python3"
  },
  "language_info": {
   "codemirror_mode": {
    "name": "ipython",
    "version": 3
   },
   "file_extension": ".py",
   "mimetype": "text/x-python",
   "name": "python",
   "nbconvert_exporter": "python",
   "pygments_lexer": "ipython3",
   "version": "3.11.9"
  }
 },
 "nbformat": 4,
 "nbformat_minor": 5
}
