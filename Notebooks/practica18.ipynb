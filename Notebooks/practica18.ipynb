{
 "cells": [
  {
   "cell_type": "markdown",
   "metadata": {},
   "source": [
    "# PRACTICA 18 \"BUCLE WHILE\""
   ]
  },
  {
   "cell_type": "markdown",
   "metadata": {},
   "source": [
    "### 1. Escriba un programa que pregunte una y otra vez si desea continuar con el programa, siempre que se conteste exactamente sí (en minúsculas y con tilde)."
   ]
  },
  {
   "cell_type": "code",
   "execution_count": 6,
   "metadata": {},
   "outputs": [
    {
     "name": "stdout",
     "output_type": "stream",
     "text": [
      "Ha decidido no continuar con el programa.\n"
     ]
    }
   ],
   "source": [
    "respuesta = \"sí\"\n",
    "\n",
    "while respuesta == \"sí\":\n",
    "    respuesta = input(\"¿Desea continuar con el programa? (escriba 'sí' para continuar): \")\n",
    "\n",
    "print(\"Ha decidido no continuar con el programa.\")"
   ]
  },
  {
   "cell_type": "markdown",
   "metadata": {},
   "source": [
    "### 2. Escriba un programa que pregunte una y otra vez si desea terminar el programa, siempre que se conteste exactamente N (en mayúsculas)"
   ]
  },
  {
   "cell_type": "code",
   "execution_count": 10,
   "metadata": {},
   "outputs": [
    {
     "name": "stdout",
     "output_type": "stream",
     "text": [
      "Ha decidido terminar el programa.\n"
     ]
    }
   ],
   "source": [
    "respuesta = \"\"\n",
    "while respuesta != \"N\":\n",
    "\n",
    "    respuesta = input(\"¿Desea terminar el programa? (escriba 'N' para terminar): \")\n",
    "\n",
    "print(\"Ha decidido terminar el programa.\")"
   ]
  },
  {
   "cell_type": "markdown",
   "metadata": {},
   "source": [
    "### 3. Escriba un programa que pregunte una y otra vez si desea continuar con el programa, siempre que se conteste S o s (en mayúsculas o en minúsculas)"
   ]
  },
  {
   "cell_type": "code",
   "execution_count": 12,
   "metadata": {},
   "outputs": [
    {
     "name": "stdout",
     "output_type": "stream",
     "text": [
      "Ha decidido no continuar con el programa.\n"
     ]
    }
   ],
   "source": [
    "respuesta = \"S\"\n",
    "\n",
    "while respuesta == \"S\" or respuesta == \"s\":\n",
    "    respuesta = input(\"¿Desea continuar con el programa? (escriba 'S' o 's' para continuar): \")\n",
    "\n",
    "print(\"Ha decidido no continuar con el programa.\")"
   ]
  },
  {
   "cell_type": "markdown",
   "metadata": {},
   "source": [
    "### 4. Escriba un programa que solicite una contraseña (el texto de la contraseña no es importante) y la vuelva a solicitar hasta que las dos contraseñas coincidan"
   ]
  },
  {
   "cell_type": "code",
   "execution_count": 13,
   "metadata": {},
   "outputs": [
    {
     "name": "stdout",
     "output_type": "stream",
     "text": [
      "Las contraseñas no coinciden. Por favor, intente de nuevo.\n",
      "Las contraseñas coinciden. Acceso concedido.\n",
      "Programa terminado.\n"
     ]
    }
   ],
   "source": [
    "while True:\n",
    "    contraseña1 = input(\"Ingrese la contraseña: \")\n",
    "    contraseña2 = input(\"Vuelva a ingresar la contraseña: \")\n",
    "\n",
    "    if contraseña1 == contraseña2:\n",
    "        print(\"Las contraseñas coinciden. Acceso concedido.\")\n",
    "        break\n",
    "    else:\n",
    "        print(\"Las contraseñas no coinciden. Por favor, intente de nuevo.\")\n",
    "\n",
    "print(\"Programa terminado.\")"
   ]
  },
  {
   "cell_type": "markdown",
   "metadata": {},
   "source": [
    "### 5. Escriba un programa que simule una hucha. El programa solicitará primero una cantidad, que será la cantidad de dinero que queremos ahorrar. A continuación, el programa solicitará una y otra vez las cantidades que se irán ahorrando, hasta que el total ahorrado iguale o supere al objetivo. El programa no comprobará que las cantidades sean positivas"
   ]
  },
  {
   "cell_type": "code",
   "execution_count": 14,
   "metadata": {},
   "outputs": [
    {
     "name": "stdout",
     "output_type": "stream",
     "text": [
      "Total ahorrado hasta ahora: 20.0\n",
      "Total ahorrado hasta ahora: 50.0\n",
      "Total ahorrado hasta ahora: 70.0\n",
      "Total ahorrado hasta ahora: 82.0\n",
      "Total ahorrado hasta ahora: 127.0\n",
      "¡Felicidades! Ha alcanzado su objetivo de ahorro de 100.0 con un total de 127.0.\n"
     ]
    }
   ],
   "source": [
    "objetivo = float(input(\"Ingrese la cantidad de dinero que desea ahorrar: \"))\n",
    "\n",
    "total_ahorrado = 0.0\n",
    "\n",
    "while total_ahorrado < objetivo:\n",
    "    cantidad = float(input(\"Ingrese la cantidad que desea añadir a la hucha: \"))\n",
    "    total_ahorrado += cantidad\n",
    "    print(f\"Total ahorrado hasta ahora: {total_ahorrado}\")\n",
    "\n",
    "print(f\"¡Felicidades! Ha alcanzado su objetivo de ahorro de {objetivo} con un total de {total_ahorrado}.\")\n"
   ]
  },
  {
   "cell_type": "markdown",
   "metadata": {},
   "source": [
    "### 6. Escriba un programa que mejore la simulación de la hucha del ejercicio anterior, no permitiendo que se escriban cantidades negativas.."
   ]
  },
  {
   "cell_type": "code",
   "execution_count": 15,
   "metadata": {},
   "outputs": [
    {
     "name": "stdout",
     "output_type": "stream",
     "text": [
      "No se pueden ingresar cantidades negativas. Por favor, ingrese una cantidad válida.\n",
      "No se pueden ingresar cantidades negativas. Por favor, ingrese una cantidad válida.\n",
      "Total ahorrado hasta ahora: 0.0\n",
      "Total ahorrado hasta ahora: 20.0\n",
      "Total ahorrado hasta ahora: 70.0\n",
      "Total ahorrado hasta ahora: 75.0\n",
      "Total ahorrado hasta ahora: 80.0\n",
      "Total ahorrado hasta ahora: 85.0\n",
      "Total ahorrado hasta ahora: 90.0\n",
      "Total ahorrado hasta ahora: 95.0\n",
      "Total ahorrado hasta ahora: 100.0\n",
      "¡Felicidades! Ha alcanzado su objetivo de ahorro de 100.0 con un total de 100.0.\n"
     ]
    }
   ],
   "source": [
    "objetivo = float(input(\"Ingrese la cantidad de dinero que desea ahorrar: \"))\n",
    "\n",
    "total_ahorrado = 0.0\n",
    "\n",
    "while total_ahorrado < objetivo:\n",
    "    cantidad = float(input(\"Ingrese la cantidad que desea añadir a la hucha: \"))\n",
    "    \n",
    "    if cantidad < 0:\n",
    "        print(\"No se pueden ingresar cantidades negativas. Por favor, ingrese una cantidad válida.\")\n",
    "    else:\n",
    "        total_ahorrado += cantidad\n",
    "        print(f\"Total ahorrado hasta ahora: {total_ahorrado}\")\n",
    "\n",
    "print(f\"¡Felicidades! Ha alcanzado su objetivo de ahorro de {objetivo} con un total de {total_ahorrado}.\")\n"
   ]
  },
  {
   "cell_type": "markdown",
   "metadata": {},
   "source": [
    "### 7. Escriba un programa que solicite una contraseña (el texto de la contraseña no es importante) y la vuelva a solicitar hasta que las dos contraseñas coincidan, con un límite de tres peticiones"
   ]
  },
  {
   "cell_type": "code",
   "execution_count": 17,
   "metadata": {},
   "outputs": [
    {
     "name": "stdout",
     "output_type": "stream",
     "text": [
      "Las contraseñas no coinciden. Intente de nuevo.\n",
      "Las contraseñas no coinciden. Intente de nuevo.\n",
      "Las contraseñas no coinciden. Intente de nuevo.\n",
      "Ha alcanzado el límite de intentos. Acceso denegado.\n",
      "Programa terminado sin éxito.\n"
     ]
    }
   ],
   "source": [
    "intentos = 0\n",
    "\n",
    "confirmacion = \"\"\n",
    "\n",
    "contraseña = input(\"Ingrese la contraseña: \")\n",
    "\n",
    "while intentos < 3:\n",
    "    intentos += 1\n",
    "    \n",
    "    confirmacion = input(\"Vuelva a ingresar la contraseña: \")\n",
    "\n",
    "    if contraseña == confirmacion:\n",
    "        print(\"Las contraseñas coinciden. Acceso concedido.\")\n",
    "        break\n",
    "    else:\n",
    "        print(\"Las contraseñas no coinciden. Intente de nuevo.\")\n",
    "    \n",
    "    if intentos == 3:\n",
    "        print(\"Ha alcanzado el límite de intentos. Acceso denegado.\")\n",
    "\n",
    "if contraseña == confirmacion:\n",
    "    print(\"Programa terminado con éxito.\")\n",
    "else:\n",
    "    print(\"Programa terminado sin éxito.\")\n"
   ]
  },
  {
   "cell_type": "markdown",
   "metadata": {},
   "source": [
    "### 8. Escriba un programa que lea los números enteros desde teclado, hasta que el usuario ingrese el 0. Finalmente, mostrar la sumatoria de todos los números ingresados.\n"
   ]
  },
  {
   "cell_type": "code",
   "execution_count": 20,
   "metadata": {},
   "outputs": [
    {
     "name": "stdout",
     "output_type": "stream",
     "text": [
      "La sumatoria de todos los números ingresados es: 3680\n"
     ]
    }
   ],
   "source": [
    "suma_total = 0\n",
    "\n",
    "while True:\n",
    "    numero = int(input(\"Ingrese un número entero (0 para terminar): \"))\n",
    "    \n",
    "    if numero == 0:\n",
    "        break\n",
    "    \n",
    "    suma_total += numero\n",
    "\n",
    "print(f\"La sumatoria de todos los números ingresados es: {suma_total}\")\n"
   ]
  },
  {
   "cell_type": "markdown",
   "metadata": {},
   "source": [
    "### 9. Escriba un programa que lea los números enteros desde teclado, hasta que el usuario ingrese el 0. Finalmente, mostrar la cantidad de todos los números positivos ingresados."
   ]
  },
  {
   "cell_type": "code",
   "execution_count": 21,
   "metadata": {},
   "outputs": [
    {
     "name": "stdout",
     "output_type": "stream",
     "text": [
      "La cantidad de números positivos ingresados es: 2\n"
     ]
    }
   ],
   "source": [
    "cantidad_positivos = 0\n",
    "\n",
    "while True:\n",
    "    numero = int(input(\"Ingrese un número entero (0 para terminar): \"))\n",
    "    \n",
    "    if numero == 0:\n",
    "        break\n",
    "    \n",
    "    if numero > 0:\n",
    "        cantidad_positivos += 1\n",
    "\n",
    "print(f\"La cantidad de números positivos ingresados es: {cantidad_positivos}\")\n"
   ]
  },
  {
   "cell_type": "markdown",
   "metadata": {},
   "source": [
    "### 10. Escriba un programa que lea los números enteros positivos de teclado, hasta que el usuario ingrese el 0. Informar cuál fue el mayor número ingresado"
   ]
  },
  {
   "cell_type": "code",
   "execution_count": 22,
   "metadata": {},
   "outputs": [
    {
     "name": "stdout",
     "output_type": "stream",
     "text": [
      "El mayor número ingresado es: 62558\n"
     ]
    }
   ],
   "source": [
    "mayor_numero = None\n",
    "\n",
    "while True:\n",
    "    numero = int(input(\"Ingrese un número entero positivo (0 para terminar): \"))\n",
    "    \n",
    "    if numero == 0:\n",
    "        break\n",
    "    \n",
    "    if numero > 0:\n",
    "        if mayor_numero is None or numero > mayor_numero:\n",
    "            mayor_numero = numero\n",
    "    else:\n",
    "        print(\"Por favor, ingrese un número entero positivo.\")\n",
    "\n",
    "if mayor_numero is not None:\n",
    "    print(f\"El mayor número ingresado es: {mayor_numero}\")\n",
    "else:\n",
    "    print(\"No se ingresaron números positivos.\")\n"
   ]
  },
  {
   "cell_type": "code",
   "execution_count": null,
   "metadata": {},
   "outputs": [],
   "source": []
  }
 ],
 "metadata": {
  "kernelspec": {
   "display_name": "anaconda-toolbox",
   "language": "python",
   "name": "python3"
  },
  "language_info": {
   "codemirror_mode": {
    "name": "ipython",
    "version": 3
   },
   "file_extension": ".py",
   "mimetype": "text/x-python",
   "name": "python",
   "nbconvert_exporter": "python",
   "pygments_lexer": "ipython3",
   "version": "3.11.9"
  }
 },
 "nbformat": 4,
 "nbformat_minor": 2
}
