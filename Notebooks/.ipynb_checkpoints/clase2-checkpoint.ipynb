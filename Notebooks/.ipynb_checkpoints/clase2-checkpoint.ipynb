{
 "cells": [
  {
   "cell_type": "markdown",
   "id": "2800af96-7e0f-4624-bfa0-bf85b29b73b9",
   "metadata": {},
   "source": [
    "# CLASE 2"
   ]
  },
  {
   "cell_type": "code",
   "execution_count": 3,
   "id": "20006b61-3326-4569-aed4-cff4db163d3c",
   "metadata": {},
   "outputs": [],
   "source": [
    "x = 3"
   ]
  },
  {
   "cell_type": "code",
   "execution_count": 4,
   "id": "6e20ea55-d4c2-4821-8635-3bfcb342e734",
   "metadata": {},
   "outputs": [
    {
     "data": {
      "text/plain": [
       "4"
      ]
     },
     "execution_count": 4,
     "metadata": {},
     "output_type": "execute_result"
    }
   ],
   "source": [
    "x + 1"
   ]
  },
  {
   "cell_type": "code",
   "execution_count": 5,
   "id": "c152f741-a272-4b95-843d-2be3b82eab1a",
   "metadata": {},
   "outputs": [],
   "source": [
    "y = x + 1"
   ]
  },
  {
   "cell_type": "code",
   "execution_count": 6,
   "id": "a33fab71-7729-4b01-b0f1-badc44fbcc9a",
   "metadata": {},
   "outputs": [
    {
     "data": {
      "text/plain": [
       "4"
      ]
     },
     "execution_count": 6,
     "metadata": {},
     "output_type": "execute_result"
    }
   ],
   "source": [
    "y"
   ]
  },
  {
   "cell_type": "code",
   "execution_count": 7,
   "id": "c4877a1c-20c7-4281-b78f-b57cea1cebea",
   "metadata": {},
   "outputs": [],
   "source": [
    "x = x + 1"
   ]
  },
  {
   "cell_type": "code",
   "execution_count": 8,
   "id": "4b41cbf0-0396-43ea-a471-0084204fc045",
   "metadata": {},
   "outputs": [
    {
     "data": {
      "text/plain": [
       "4"
      ]
     },
     "execution_count": 8,
     "metadata": {},
     "output_type": "execute_result"
    }
   ],
   "source": [
    "x"
   ]
  },
  {
   "cell_type": "code",
   "execution_count": 9,
   "id": "96384362-a0dd-45e5-9747-02f23488729e",
   "metadata": {},
   "outputs": [],
   "source": [
    "x = 7"
   ]
  },
  {
   "cell_type": "code",
   "execution_count": 10,
   "id": "a8aa309d-ff32-4e00-bc23-e54f21d0c4f3",
   "metadata": {},
   "outputs": [
    {
     "data": {
      "text/plain": [
       "7"
      ]
     },
     "execution_count": 10,
     "metadata": {},
     "output_type": "execute_result"
    }
   ],
   "source": [
    "x"
   ]
  },
  {
   "cell_type": "code",
   "execution_count": 11,
   "id": "23e9cbc7-609c-4f00-b586-c9da8178e112",
   "metadata": {},
   "outputs": [],
   "source": [
    "x += 2"
   ]
  },
  {
   "cell_type": "code",
   "execution_count": 12,
   "id": "fea05be9-fb59-4576-b54f-107146a90bd5",
   "metadata": {},
   "outputs": [
    {
     "data": {
      "text/plain": [
       "9"
      ]
     },
     "execution_count": 12,
     "metadata": {},
     "output_type": "execute_result"
    }
   ],
   "source": [
    "x"
   ]
  },
  {
   "cell_type": "markdown",
   "id": "3f8ff348-ab4c-460e-929a-d0731938b1d9",
   "metadata": {},
   "source": [
    "### STRINGS"
   ]
  },
  {
   "cell_type": "code",
   "execution_count": 13,
   "id": "948c0b01-04ac-4ef7-82a8-9dc34ba4b5cb",
   "metadata": {},
   "outputs": [],
   "source": [
    "saludo = 'hola'"
   ]
  },
  {
   "cell_type": "code",
   "execution_count": 14,
   "id": "9cdf18ec-3676-485c-bdb3-85a0ff81b410",
   "metadata": {},
   "outputs": [],
   "source": [
    "frase = 'Hola Mundo!'"
   ]
  },
  {
   "cell_type": "code",
   "execution_count": 15,
   "id": "becd8b79-4bc2-4fab-aa96-9d29b98f3e6e",
   "metadata": {},
   "outputs": [],
   "source": [
    "letra = 'x'"
   ]
  },
  {
   "cell_type": "code",
   "execution_count": 16,
   "id": "ace76014-c549-482e-b43e-caa994e3a0f5",
   "metadata": {},
   "outputs": [
    {
     "data": {
      "text/plain": [
       "'x'"
      ]
     },
     "execution_count": 16,
     "metadata": {},
     "output_type": "execute_result"
    }
   ],
   "source": [
    "letra"
   ]
  },
  {
   "cell_type": "code",
   "execution_count": 17,
   "id": "25ce3a7f-89d2-4e74-a6c4-b5eecd9c6d0a",
   "metadata": {},
   "outputs": [
    {
     "name": "stdout",
     "output_type": "stream",
     "text": [
      "Hola Mundo!x\n"
     ]
    }
   ],
   "source": [
    "print (frase + letra)"
   ]
  },
  {
   "cell_type": "code",
   "execution_count": 18,
   "id": "065c4248-8eb3-462d-aea5-5c1bab675e0f",
   "metadata": {},
   "outputs": [],
   "source": [
    "a = 'Esto es un string'"
   ]
  },
  {
   "cell_type": "code",
   "execution_count": 19,
   "id": "d13634b9-f998-414a-9298-0aa3c362992a",
   "metadata": {},
   "outputs": [],
   "source": [
    "b = a"
   ]
  },
  {
   "cell_type": "code",
   "execution_count": 20,
   "id": "5c24f511-7c0a-4bff-87d2-8cdb0446e803",
   "metadata": {},
   "outputs": [
    {
     "name": "stdout",
     "output_type": "stream",
     "text": [
      "Esto es un string\n"
     ]
    }
   ],
   "source": [
    "print(b)"
   ]
  },
  {
   "cell_type": "code",
   "execution_count": 21,
   "id": "b9707f48-ba97-4d9e-bbc9-d9b7bb1299d8",
   "metadata": {},
   "outputs": [],
   "source": [
    "comillas_simples = 'Esto es un String'"
   ]
  },
  {
   "cell_type": "code",
   "execution_count": 22,
   "id": "c4524fbd-2a0b-483e-8d5f-9240ed55e0e8",
   "metadata": {},
   "outputs": [],
   "source": [
    "comillas_dobles = \"Esto también es un String\""
   ]
  },
  {
   "cell_type": "code",
   "execution_count": 23,
   "id": "2c911958-449b-4461-9057-551cd89b9da7",
   "metadata": {},
   "outputs": [],
   "source": [
    "saltos = \"hola\\na\\ntodos\""
   ]
  },
  {
   "cell_type": "code",
   "execution_count": 24,
   "id": "9d7a38ce-fb28-4f75-9e23-ede78b293923",
   "metadata": {},
   "outputs": [
    {
     "name": "stdout",
     "output_type": "stream",
     "text": [
      "hola\n",
      "a\n",
      "todos\n"
     ]
    }
   ],
   "source": [
    "print(saltos)"
   ]
  },
  {
   "cell_type": "code",
   "execution_count": 25,
   "id": "2908a5f8-9b56-4a69-8606-651a0d27afc2",
   "metadata": {},
   "outputs": [
    {
     "name": "stdout",
     "output_type": "stream",
     "text": [
      "Hello\n",
      "World\n"
     ]
    }
   ],
   "source": [
    "print(\"Hello\\nWorld\")"
   ]
  },
  {
   "cell_type": "code",
   "execution_count": 26,
   "id": "89130f00-4ea6-473c-8906-3faa82a34878",
   "metadata": {},
   "outputs": [
    {
     "name": "stdout",
     "output_type": "stream",
     "text": [
      "Hello\tWorld\n"
     ]
    }
   ],
   "source": [
    "print(\"Hello\\tWorld\")"
   ]
  },
  {
   "cell_type": "code",
   "execution_count": 27,
   "id": "1514cbc0-e76c-4dfa-a2c2-683bbd7cb6e3",
   "metadata": {},
   "outputs": [
    {
     "name": "stdout",
     "output_type": "stream",
     "text": [
      "Himansu\n",
      "\tDAVV\n",
      "\t\tIndore\n"
     ]
    }
   ],
   "source": [
    "print(\"Himansu\\n\\tDAVV\\n\\t\\tIndore\")"
   ]
  },
  {
   "cell_type": "code",
   "execution_count": 28,
   "id": "897e9f13-8b28-4fca-91e3-990a85056b9f",
   "metadata": {},
   "outputs": [
    {
     "name": "stdout",
     "output_type": "stream",
     "text": [
      "*\n",
      "**\n",
      "***\n"
     ]
    }
   ],
   "source": [
    "print(\"*\\n**\\n***\")"
   ]
  },
  {
   "cell_type": "code",
   "execution_count": 29,
   "id": "37dfca86-16b2-4d7e-b446-68cadf79dbae",
   "metadata": {},
   "outputs": [
    {
     "name": "stdout",
     "output_type": "stream",
     "text": [
      "     *\n",
      "*\t*\n",
      "      *\n"
     ]
    }
   ],
   "source": [
    "print(\"     *\\n*\\t*\\n      *\")"
   ]
  },
  {
   "cell_type": "markdown",
   "id": "dd7b87b7-7ea4-44df-8fc7-f38bed556715",
   "metadata": {},
   "source": [
    "### CONSTANTES "
   ]
  },
  {
   "cell_type": "code",
   "execution_count": 30,
   "id": "73d83055-43cf-4a60-9f2f-bd81cc91ae53",
   "metadata": {},
   "outputs": [],
   "source": [
    "IVA = 0.18"
   ]
  },
  {
   "cell_type": "code",
   "execution_count": 31,
   "id": "9ec1941d-a440-4f2a-a490-64002b54e01e",
   "metadata": {},
   "outputs": [],
   "source": [
    "NUMERO_PI = 3.14"
   ]
  },
  {
   "cell_type": "code",
   "execution_count": 32,
   "id": "1df3e010-eb6f-4688-bc94-fd308b2ae29f",
   "metadata": {},
   "outputs": [],
   "source": [
    "SOUND_SPEED = 343.2"
   ]
  },
  {
   "cell_type": "code",
   "execution_count": 33,
   "id": "1c10ec6a-ca57-45bb-a764-a0623c433371",
   "metadata": {},
   "outputs": [],
   "source": [
    "WATER_DENSITY = 997"
   ]
  },
  {
   "cell_type": "code",
   "execution_count": 34,
   "id": "25483459-6b4b-43a7-a763-6c58439c5595",
   "metadata": {},
   "outputs": [],
   "source": [
    "EARTH_NAME = 'La Tierra'"
   ]
  },
  {
   "cell_type": "markdown",
   "id": "1f2fcd70-eec1-4852-ab71-0aece3a93265",
   "metadata": {},
   "source": [
    "### STRING y métodos Asociados"
   ]
  },
  {
   "cell_type": "code",
   "execution_count": 35,
   "id": "a269a5e9-6f82-40c7-b2d7-97600e1608ec",
   "metadata": {},
   "outputs": [],
   "source": [
    "a = 'Hola'"
   ]
  },
  {
   "cell_type": "code",
   "execution_count": 36,
   "id": "c25ffab7-9d15-40ca-9540-3053b712a318",
   "metadata": {},
   "outputs": [],
   "source": [
    "b =' Mundo'"
   ]
  },
  {
   "cell_type": "code",
   "execution_count": 37,
   "id": "24ad85e6-b57e-4729-ba07-4f2ae78fe6e5",
   "metadata": {},
   "outputs": [
    {
     "name": "stdout",
     "output_type": "stream",
     "text": [
      "Hola Mundo\n"
     ]
    }
   ],
   "source": [
    "print(a + b)"
   ]
  },
  {
   "cell_type": "code",
   "execution_count": 38,
   "id": "74d503ff-840e-42b6-a3ea-697ab78aa723",
   "metadata": {},
   "outputs": [],
   "source": [
    "a = '7'"
   ]
  },
  {
   "cell_type": "code",
   "execution_count": 39,
   "id": "a9de6df6-eba3-407c-a1ef-5636e166c6ba",
   "metadata": {},
   "outputs": [],
   "source": [
    "b = '3'"
   ]
  },
  {
   "cell_type": "code",
   "execution_count": 40,
   "id": "a7e30d31-c316-4361-a72a-988de5764331",
   "metadata": {},
   "outputs": [
    {
     "name": "stdout",
     "output_type": "stream",
     "text": [
      "73\n"
     ]
    }
   ],
   "source": [
    "print(a + b)"
   ]
  },
  {
   "cell_type": "markdown",
   "id": "2706d59b-9f14-43f3-8975-454af750ed8d",
   "metadata": {},
   "source": [
    "### Concatenación "
   ]
  },
  {
   "cell_type": "code",
   "execution_count": 41,
   "id": "0f086dbe-08ab-421f-9051-b781e3e77d01",
   "metadata": {},
   "outputs": [],
   "source": [
    "nombre = 'Carlos'"
   ]
  },
  {
   "cell_type": "code",
   "execution_count": 42,
   "id": "77f4e7a6-f071-4e95-bf42-8f9c8de102de",
   "metadata": {},
   "outputs": [],
   "source": [
    "apellido = 'Santana'"
   ]
  },
  {
   "cell_type": "code",
   "execution_count": 43,
   "id": "ab190ddb-98ff-4ca0-bd2a-08b626212500",
   "metadata": {},
   "outputs": [
    {
     "name": "stdout",
     "output_type": "stream",
     "text": [
      "Mi nombre es Carlos Santana\n"
     ]
    }
   ],
   "source": [
    "print (\"Mi nombre es \" + nombre + \" \" + apellido)"
   ]
  },
  {
   "cell_type": "markdown",
   "id": "726f08e6-3b2a-4cbd-a9bf-2ea6712723dd",
   "metadata": {},
   "source": [
    "### Interpolación"
   ]
  },
  {
   "cell_type": "code",
   "execution_count": 44,
   "id": "753e421e-b183-443a-bc09-fd5f9499b416",
   "metadata": {},
   "outputs": [],
   "source": [
    "nombre = 'Carlos'"
   ]
  },
  {
   "cell_type": "code",
   "execution_count": 45,
   "id": "894ce799-827f-41cd-8b55-ab9a860aea36",
   "metadata": {},
   "outputs": [],
   "source": [
    "apellido = 'Santana'"
   ]
  },
  {
   "cell_type": "code",
   "execution_count": 47,
   "id": "9858fd3a-b02d-4eb0-8621-a565cf40e102",
   "metadata": {},
   "outputs": [
    {
     "name": "stdout",
     "output_type": "stream",
     "text": [
      "Mi nombre es Carlos Santana\n"
     ]
    }
   ],
   "source": [
    "print (\"Mi nombre es {} {}\".format(nombre, apellido))"
   ]
  },
  {
   "cell_type": "markdown",
   "id": "9ca92625-4d74-4cb0-a9f3-453b2eb326d1",
   "metadata": {},
   "source": [
    "### Count"
   ]
  },
  {
   "cell_type": "code",
   "execution_count": 49,
   "id": "c3262897-b73d-4382-a11d-63b8ae180208",
   "metadata": {},
   "outputs": [
    {
     "name": "stdout",
     "output_type": "stream",
     "text": [
      "1\n"
     ]
    }
   ],
   "source": [
    "print(nombre.count(\"a\"))"
   ]
  },
  {
   "cell_type": "code",
   "execution_count": 51,
   "id": "794d57a3-1fda-4585-b7db-e8239c69d1a0",
   "metadata": {},
   "outputs": [
    {
     "name": "stdout",
     "output_type": "stream",
     "text": [
      "3\n"
     ]
    }
   ],
   "source": [
    "print(apellido.count(\"a\"))"
   ]
  },
  {
   "cell_type": "markdown",
   "id": "3b00261e-cc6b-44a3-89fd-750d38c5a3c4",
   "metadata": {},
   "source": [
    "### Len"
   ]
  },
  {
   "cell_type": "code",
   "execution_count": 52,
   "id": "e6bf793c-5a10-49c3-b4fa-85741da5bd28",
   "metadata": {},
   "outputs": [
    {
     "name": "stdout",
     "output_type": "stream",
     "text": [
      "7\n"
     ]
    }
   ],
   "source": [
    "print(len(apellido))"
   ]
  },
  {
   "cell_type": "markdown",
   "id": "eded74f1-a514-4067-b49a-d853fd75a6bf",
   "metadata": {},
   "source": [
    "### Upper"
   ]
  },
  {
   "cell_type": "code",
   "execution_count": 53,
   "id": "2cc4b8f0-9d1f-4c42-9a51-07941fda318d",
   "metadata": {},
   "outputs": [
    {
     "name": "stdout",
     "output_type": "stream",
     "text": [
      "SANTANA\n"
     ]
    }
   ],
   "source": [
    "print(apellido.upper())"
   ]
  },
  {
   "cell_type": "markdown",
   "id": "18267914-7774-4673-a279-4b1a90295b86",
   "metadata": {},
   "source": [
    "## Números en Python"
   ]
  },
  {
   "cell_type": "code",
   "execution_count": 54,
   "id": "c73d2669-7e8c-42e6-83c4-d054b2ca365e",
   "metadata": {},
   "outputs": [
    {
     "data": {
      "text/plain": [
       "int"
      ]
     },
     "execution_count": 54,
     "metadata": {},
     "output_type": "execute_result"
    }
   ],
   "source": [
    "type(5)"
   ]
  },
  {
   "cell_type": "code",
   "execution_count": 55,
   "id": "b001c3da-1d2b-4ddf-a321-6c2a638b6340",
   "metadata": {},
   "outputs": [
    {
     "data": {
      "text/plain": [
       "float"
      ]
     },
     "execution_count": 55,
     "metadata": {},
     "output_type": "execute_result"
    }
   ],
   "source": [
    "type(5.0)"
   ]
  },
  {
   "cell_type": "code",
   "execution_count": 56,
   "id": "33b940d7-2c52-453e-982a-9465841aecdb",
   "metadata": {},
   "outputs": [
    {
     "data": {
      "text/plain": [
       "float"
      ]
     },
     "execution_count": 56,
     "metadata": {},
     "output_type": "execute_result"
    }
   ],
   "source": [
    "type(3.0)"
   ]
  },
  {
   "cell_type": "code",
   "execution_count": 57,
   "id": "af9f5d26-4ad7-45b9-b0e0-3bb636d5ab2a",
   "metadata": {},
   "outputs": [
    {
     "data": {
      "text/plain": [
       "float"
      ]
     },
     "execution_count": 57,
     "metadata": {},
     "output_type": "execute_result"
    }
   ],
   "source": [
    "type(3.)"
   ]
  },
  {
   "cell_type": "code",
   "execution_count": 58,
   "id": "981c1651-98ce-446a-a2e4-bfa84d028bb9",
   "metadata": {},
   "outputs": [
    {
     "data": {
      "text/plain": [
       "int"
      ]
     },
     "execution_count": 58,
     "metadata": {},
     "output_type": "execute_result"
    }
   ],
   "source": [
    "type(int(7.0))"
   ]
  },
  {
   "cell_type": "code",
   "execution_count": 59,
   "id": "847750bc-eac9-45c6-91df-0f7c86ff2e20",
   "metadata": {},
   "outputs": [
    {
     "data": {
      "text/plain": [
       "int"
      ]
     },
     "execution_count": 59,
     "metadata": {},
     "output_type": "execute_result"
    }
   ],
   "source": [
    "type(int(9.))"
   ]
  },
  {
   "cell_type": "code",
   "execution_count": 60,
   "id": "73e1e289-5ca2-42d2-8451-6b638295db6d",
   "metadata": {},
   "outputs": [
    {
     "data": {
      "text/plain": [
       "float"
      ]
     },
     "execution_count": 60,
     "metadata": {},
     "output_type": "execute_result"
    }
   ],
   "source": [
    "type(float(3))"
   ]
  },
  {
   "cell_type": "code",
   "execution_count": 61,
   "id": "68e7671a-4d95-4944-a2ea-87743109b72c",
   "metadata": {},
   "outputs": [
    {
     "data": {
      "text/plain": [
       "3"
      ]
     },
     "execution_count": 61,
     "metadata": {},
     "output_type": "execute_result"
    }
   ],
   "source": [
    "int(3.5)"
   ]
  },
  {
   "cell_type": "markdown",
   "id": "411dc424-9ee0-4aa5-aad7-58efaf8360b4",
   "metadata": {},
   "source": [
    "## Entrada de Datos"
   ]
  },
  {
   "cell_type": "code",
   "execution_count": 64,
   "id": "210d4ce3-9d59-41ad-aa4d-731a15f91b97",
   "metadata": {},
   "outputs": [
    {
     "name": "stdin",
     "output_type": "stream",
     "text": [
      " 10\n"
     ]
    }
   ],
   "source": [
    "x = input()"
   ]
  },
  {
   "cell_type": "code",
   "execution_count": 65,
   "id": "552739ae-6a67-4162-b028-0759544a64f0",
   "metadata": {},
   "outputs": [
    {
     "name": "stdout",
     "output_type": "stream",
     "text": [
      "10\n"
     ]
    }
   ],
   "source": [
    "print(x)"
   ]
  },
  {
   "cell_type": "code",
   "execution_count": 66,
   "id": "ad9d7fe7-a61a-499f-ad85-1aca4aeab5c7",
   "metadata": {},
   "outputs": [
    {
     "name": "stdin",
     "output_type": "stream",
     "text": [
      "Enter Your Name:  Luis\n"
     ]
    }
   ],
   "source": [
    "x = input(\"Enter Your Name: \")"
   ]
  },
  {
   "cell_type": "code",
   "execution_count": 67,
   "id": "2da613b4-1016-4759-8ae8-096d1de484d1",
   "metadata": {},
   "outputs": [
    {
     "name": "stdout",
     "output_type": "stream",
     "text": [
      "Luis\n"
     ]
    }
   ],
   "source": [
    "print(x)"
   ]
  },
  {
   "cell_type": "code",
   "execution_count": 68,
   "id": "a42cfad2-920a-4d0d-9a3d-b7d1048c58ee",
   "metadata": {},
   "outputs": [
    {
     "name": "stdin",
     "output_type": "stream",
     "text": [
      "Enter Your Name:  Alberto\n"
     ]
    }
   ],
   "source": [
    "x = input(\"Enter Your Name: \")"
   ]
  },
  {
   "cell_type": "code",
   "execution_count": 69,
   "id": "c7f08076-1466-4eee-91d7-2a0994a31249",
   "metadata": {},
   "outputs": [
    {
     "name": "stdout",
     "output_type": "stream",
     "text": [
      "Hello Alberto\n"
     ]
    }
   ],
   "source": [
    "print(\"Hello\",x)"
   ]
  },
  {
   "cell_type": "code",
   "execution_count": null,
   "id": "cf7dcf94-132c-4368-bd9d-a582860a5805",
   "metadata": {},
   "outputs": [],
   "source": []
  }
 ],
 "metadata": {
  "kernelspec": {
   "display_name": "Python 3 (ipykernel)",
   "language": "python",
   "name": "python3"
  },
  "language_info": {
   "codemirror_mode": {
    "name": "ipython",
    "version": 3
   },
   "file_extension": ".py",
   "mimetype": "text/x-python",
   "name": "python",
   "nbconvert_exporter": "python",
   "pygments_lexer": "ipython3",
   "version": "3.12.3"
  }
 },
 "nbformat": 4,
 "nbformat_minor": 5
}
