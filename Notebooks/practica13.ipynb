{
 "cells": [
  {
   "cell_type": "markdown",
   "metadata": {},
   "source": [
    "# PRACTICA 13. "
   ]
  },
  {
   "cell_type": "markdown",
   "metadata": {},
   "source": [
    "## Pregunta 1:\n",
    "Escribir un programa que pregunte el nombre del usuario en la consola y después de que el usuario lo introduzca muestre por pantalla la cadena ¡Hola \"nombre\"!, donde \"nombre\" es el nombre que el usuario haya introducido"
   ]
  },
  {
   "cell_type": "code",
   "execution_count": 2,
   "metadata": {},
   "outputs": [
    {
     "name": "stdout",
     "output_type": "stream",
     "text": [
      "¡Hola Luissss!\n"
     ]
    }
   ],
   "source": [
    "# Solicitar el nombre del usuario\n",
    "nombre = input(\"Por favor, introduce tu nombre: \")\n",
    "\n",
    "# Mostrar el mensaje personalizado\n",
    "print(f\"¡Hola {nombre}!\")"
   ]
  },
  {
   "cell_type": "markdown",
   "metadata": {},
   "source": [
    "## Pregunta 2:\n",
    "Escribir un programa que muestre por pantalla el resultado de la siguiente operación aritmética ((3+2)/(2*5))^2."
   ]
  },
  {
   "cell_type": "code",
   "execution_count": 3,
   "metadata": {},
   "outputs": [
    {
     "name": "stdout",
     "output_type": "stream",
     "text": [
      "El resultado de la operación ((3 + 2) / (2 * 5))^2 es: 0.25\n"
     ]
    }
   ],
   "source": [
    "# Realizar la operación aritmética\n",
    "resultado = ((3 + 2) / (2 * 5)) ** 2\n",
    "\n",
    "# Mostrar el resultado\n",
    "print(f\"El resultado de la operación ((3 + 2) / (2 * 5))^2 es: {resultado}\")"
   ]
  },
  {
   "cell_type": "markdown",
   "metadata": {},
   "source": [
    "## Pregunta 3:\n",
    "Escribe un programa que pregunte al usuario por el número de horas trabajadas y el coste por hora. Después debe mostrar por pantalla la paga que le corresponde."
   ]
  },
  {
   "cell_type": "code",
   "execution_count": 38,
   "metadata": {},
   "outputs": [
    {
     "name": "stdout",
     "output_type": "stream",
     "text": [
      "La paga total es: 5000.0\n"
     ]
    }
   ],
   "source": [
    "# Solicitar al usuario el número de horas trabajadas\n",
    "horas_trabajadas = int(input(\"Introduce el número de horas trabajadas: \"))\n",
    "\n",
    "# Solicitar al usuario el coste por hora\n",
    "coste_por_hora = float(input(\"Introduce el coste por hora: \"))\n",
    "\n",
    "# Calcular la paga correspondiente\n",
    "paga_total = horas_trabajadas * coste_por_hora\n",
    "\n",
    "# Mostrar la paga correspondiente\n",
    "print(f\"La paga total es: {paga_total}\")"
   ]
  },
  {
   "cell_type": "markdown",
   "metadata": {},
   "source": [
    "## Pregunta 4:\n",
    "Escribir un programa que pida al usuario dos números enteros y muestre por pantalla la \"n\" entre \"m\" da un cociente \"c\" y un resto \"r\" donde \"n\" y \"m\" son los números introducidos por el usuario. y \"c\" y son el cociente y el resto de la división entera respectivamente."
   ]
  },
  {
   "cell_type": "code",
   "execution_count": 5,
   "metadata": {},
   "outputs": [
    {
     "name": "stdout",
     "output_type": "stream",
     "text": [
      "50 entre 100 da un cociente 0 y un resto 50\n"
     ]
    }
   ],
   "source": [
    "# Solicitar al usuario el primer número entero\n",
    "n = int(input(\"Introduce el primer número entero (n): \"))\n",
    "\n",
    "# Solicitar al usuario el segundo número entero\n",
    "m = int(input(\"Introduce el segundo número entero (m): \"))\n",
    "\n",
    "# Calcular el cociente y el resto de la división entera\n",
    "cociente = n // m\n",
    "resto = n % m\n",
    "\n",
    "# Mostrar el resultado\n",
    "print(f\"{n} entre {m} da un cociente {cociente} y un resto {resto}\")"
   ]
  },
  {
   "cell_type": "markdown",
   "metadata": {},
   "source": [
    "## Pregunta 5:\n",
    "Escribir un programa que pregunte al usuario una cantidad a invertir, el interés porcentual anual y el número de años, y muestre por pantalla el capital obtenido en la inversión redondeando con dos decimales."
   ]
  },
  {
   "cell_type": "code",
   "execution_count": 6,
   "metadata": {},
   "outputs": [
    {
     "name": "stdout",
     "output_type": "stream",
     "text": [
      "El capital obtenido tras 5 años es: 2488.32\n"
     ]
    }
   ],
   "source": [
    "# Solicitar al usuario la cantidad a invertir\n",
    "cantidad_invertir = float(input(\"Introduce la cantidad a invertir: \"))\n",
    "\n",
    "# Solicitar al usuario el interés porcentual anual\n",
    "interes_anual = float(input(\"Introduce el interés porcentual anual: \"))\n",
    "\n",
    "# Solicitar al usuario el número de años\n",
    "numero_anos = int(input(\"Introduce el número de años: \"))\n",
    "\n",
    "# Calcular el capital obtenido\n",
    "capital_obtenido = cantidad_invertir * (1 + interes_anual / 100) ** numero_anos\n",
    "\n",
    "# Mostrar el capital obtenido redondeado a dos decimales\n",
    "print(f\"El capital obtenido tras {numero_anos} años es: {capital_obtenido:.2f}\")"
   ]
  },
  {
   "cell_type": "markdown",
   "metadata": {},
   "source": [
    "## Pregunta 6:\n",
    "Una juguetería tiene mucho éxito en dos de sus productos: payasos y muñecas. Suele hacer venta por correo y la empresa de logística les cobra por peso de cada paquete así que deben calcular el peso de los payasos y muñecas que saldrán en cada paquete a demanda. Cada payaso pesa 112g y cada muñeca 75g. Escribir un programa que lea el número de payasos y muñecas vendidos en el último pedido y calcule el peso total del paquete que será enviado."
   ]
  },
  {
   "cell_type": "code",
   "execution_count": 7,
   "metadata": {},
   "outputs": [
    {
     "name": "stdout",
     "output_type": "stream",
     "text": [
      "El peso total del paquete es: 1870 gramos\n"
     ]
    }
   ],
   "source": [
    "# Definir los pesos de los payasos y muñecas\n",
    "peso_payaso = 112  # en gramos\n",
    "peso_muneca = 75   # en gramos\n",
    "\n",
    "# Solicitar al usuario el número de payasos vendidos\n",
    "num_payasos = int(input(\"Introduce el número de payasos vendidos: \"))\n",
    "\n",
    "# Solicitar al usuario el número de muñecas vendidas\n",
    "num_munecas = int(input(\"Introduce el número de muñecas vendidas: \"))\n",
    "\n",
    "# Calcular el peso total del paquete\n",
    "peso_total = (num_payasos * peso_payaso) + (num_munecas * peso_muneca)\n",
    "\n",
    "# Mostrar el peso total del paquete\n",
    "print(f\"El peso total del paquete es: {peso_total} gramos\")"
   ]
  },
  {
   "cell_type": "markdown",
   "metadata": {},
   "source": [
    "## Pregunta 7:\n",
    "Una panadería vende barras de pan a 3.49€ cada una. El pan que no es el día tiene un descuento del 60%. Escribir un programa que comience leyendo el número de barras vendidas que no son del día. Después el programa debe mostrar el precio habitual de una barra de pan, el descuento que se le hace por no ser fresca y el coste final total."
   ]
  },
  {
   "cell_type": "code",
   "execution_count": 8,
   "metadata": {},
   "outputs": [
    {
     "name": "stdout",
     "output_type": "stream",
     "text": [
      "Precio habitual de una barra de pan: 3.49 €\n",
      "Descuento por no ser fresca (60%): 2.09 €\n",
      "Coste final total: 76.78 €\n"
     ]
    }
   ],
   "source": [
    "# Precio habitual de una barra de pan\n",
    "precio_normal = 3.49  # en euros\n",
    "\n",
    "# Descuento por no ser del día (60%)\n",
    "descuento = 0.60\n",
    "\n",
    "# Solicitar al usuario el número de barras vendidas que no son del día\n",
    "barras_no_dia = int(input(\"Introduce el número de barras vendidas que no son del día: \"))\n",
    "\n",
    "# Calcular el precio final total\n",
    "precio_final = (precio_normal * (1 - descuento)) * barras_no_dia\n",
    "\n",
    "# Mostrar el precio habitual de una barra de pan\n",
    "print(f\"Precio habitual de una barra de pan: {precio_normal} €\")\n",
    "\n",
    "# Mostrar el descuento que se le hace por no ser fresca\n",
    "print(f\"Descuento por no ser fresca ({int(descuento * 100)}%): {precio_normal * descuento:.2f} €\")\n",
    "\n",
    "# Mostrar el coste final total\n",
    "print(f\"Coste final total: {precio_final:.2f} €\")"
   ]
  },
  {
   "cell_type": "markdown",
   "metadata": {},
   "source": [
    "## Pregunta 8:\n",
    "Suponga un valor adecuado para la temperatura de una ciudad en grados\n",
    "Fahrenheit. Escriba un programa para convertir esta temperatura en grados centígrados e imprima ambas temperaturas.\n",
    "\n",
    "C = (f -32)x 5/9\n",
    "\n",
    "\n"
   ]
  },
  {
   "cell_type": "code",
   "execution_count": 6,
   "metadata": {},
   "outputs": [
    {
     "name": "stdout",
     "output_type": "stream",
     "text": [
      "Temperatura en Fahrenheit: 50\n",
      "Temperatura en Celsius: 10.0\n"
     ]
    }
   ],
   "source": [
    "# Definir la temperatura en grados Fahrenheit\n",
    "temperatura_fahrenheit = 50  # Supongamos que la temperatura es de 50 grados Fahrenheit\n",
    "\n",
    "# Convertir Fahrenheit a Celsius usando la fórmula C = (F - 32) * (5/9)\n",
    "temperatura_celsius = (temperatura_fahrenheit - 32) * (5 / 9)\n",
    "\n",
    "# Imprimir ambas temperaturas\n",
    "print(\"Temperatura en Fahrenheit:\", temperatura_fahrenheit)\n",
    "print(\"Temperatura en Celsius:\", temperatura_celsius)"
   ]
  },
  {
   "cell_type": "markdown",
   "metadata": {},
   "source": [
    "## Pregunta 9:\n",
    "Suponga un valor adecuado para la temperatura de una ciudad en grados\n",
    "centígrados. Escriba un programa para convertir esta temperatura en la escala Kelvin e imprima ambas temperaturas \n",
    "\n",
    "K = C + 273.1"
   ]
  },
  {
   "cell_type": "code",
   "execution_count": 9,
   "metadata": {},
   "outputs": [
    {
     "name": "stdout",
     "output_type": "stream",
     "text": [
      "Temperatura en Celsius: 25 °C\n",
      "Temperatura en Kelvin: 298.15 K\n"
     ]
    }
   ],
   "source": [
    "# Supongamos una temperatura en grados Celsius\n",
    "temperatura_celsius = 25  # Por ejemplo, 25 grados Celsius\n",
    "\n",
    "# Convertir temperatura a Kelvin\n",
    "temperatura_kelvin = temperatura_celsius + 273.15  # Añadimos 273.15 para la conversión\n",
    "\n",
    "# Mostrar ambas temperaturas\n",
    "print(f\"Temperatura en Celsius: {temperatura_celsius} °C\")\n",
    "print(f\"Temperatura en Kelvin: {temperatura_kelvin} K\")"
   ]
  },
  {
   "cell_type": "markdown",
   "metadata": {},
   "source": [
    "## Pregunta 10: \n",
    "Imprima la parte imaginaria del complejo z = 2 + 3j."
   ]
  },
  {
   "cell_type": "code",
   "execution_count": 10,
   "metadata": {},
   "outputs": [
    {
     "name": "stdout",
     "output_type": "stream",
     "text": [
      "La parte imaginaria de z es: 3.0\n"
     ]
    }
   ],
   "source": [
    "# Definir el número complejo z\n",
    "z = 2 + 3j\n",
    "\n",
    "# Imprimir la parte imaginaria de z\n",
    "print(\"La parte imaginaria de z es:\", z.imag)"
   ]
  },
  {
   "cell_type": "markdown",
   "metadata": {},
   "source": [
    "## Pregunta 11: \n",
    "Obtenga la parte real de z = 4 + 2j."
   ]
  },
  {
   "cell_type": "code",
   "execution_count": 11,
   "metadata": {},
   "outputs": [
    {
     "name": "stdout",
     "output_type": "stream",
     "text": [
      "La parte real de z es: 4.0\n"
     ]
    }
   ],
   "source": [
    "# Definir el número complejo z\n",
    "z = 4 + 2j\n",
    "\n",
    "# Imprimir la parte real de z\n",
    "print(\"La parte real de z es:\", z.real)"
   ]
  },
  {
   "cell_type": "markdown",
   "metadata": {},
   "source": [
    "## Pregunta 12: \n",
    "Obtenga el conjugado de z = 4 + 2j"
   ]
  },
  {
   "cell_type": "code",
   "execution_count": 14,
   "metadata": {},
   "outputs": [
    {
     "name": "stdout",
     "output_type": "stream",
     "text": [
      "El conjugado de z es: (4-2j)\n"
     ]
    }
   ],
   "source": [
    "# Definir el número complejo z\n",
    "z = 4 + 2j\n",
    "\n",
    "# Imprimir el conjugado de z\n",
    "print(\"El conjugado de z es:\", z.conjugate())\n"
   ]
  },
  {
   "cell_type": "markdown",
   "metadata": {},
   "source": [
    "## Pregunta 13: \n",
    "Imprima el equivalente en nuestra base decimal del binario ‘1100001110'"
   ]
  },
  {
   "cell_type": "code",
   "execution_count": 33,
   "metadata": {},
   "outputs": [
    {
     "name": "stdout",
     "output_type": "stream",
     "text": [
      "El equivalente en base decimal de 782\n"
     ]
    }
   ],
   "source": [
    "print(\"El equivalente en base decimal de\", 0b1100001110)"
   ]
  },
  {
   "cell_type": "markdown",
   "metadata": {},
   "source": [
    "## Pregunta 14: \n",
    "Convierta el valor flotante 4.33 a un string (cadena)."
   ]
  },
  {
   "cell_type": "code",
   "execution_count": 30,
   "metadata": {},
   "outputs": [
    {
     "name": "stdout",
     "output_type": "stream",
     "text": [
      "El valor flotante convertido a cadena es: 4.33\n"
     ]
    }
   ],
   "source": [
    "# Define el valor flotante\n",
    "flotante = 4.33\n",
    "\n",
    "# Imprime el resultado\n",
    "print(\"El valor flotante convertido a cadena es:\", str(flotante))"
   ]
  },
  {
   "cell_type": "markdown",
   "metadata": {},
   "source": [
    "## Pregunta 15: \n",
    "Obtenga el cociente entero y el resto de la división entre 29 y 5.\n"
   ]
  },
  {
   "cell_type": "code",
   "execution_count": 21,
   "metadata": {},
   "outputs": [
    {
     "name": "stdout",
     "output_type": "stream",
     "text": [
      "El cociente entero de la división es: 5\n",
      "El resto de la división es: 4\n"
     ]
    }
   ],
   "source": [
    "# Números para la división\n",
    "dividendo = 29\n",
    "divisor = 5\n",
    "\n",
    "# Calcular el cociente entero\n",
    "cociente = dividendo // divisor\n",
    "\n",
    "# Calcular el resto\n",
    "resto = dividendo % divisor\n",
    "\n",
    "# Imprimir el cociente entero y el resto\n",
    "print(\"El cociente entero de la división es:\", cociente)\n",
    "print(\"El resto de la división es:\", resto)"
   ]
  },
  {
   "cell_type": "markdown",
   "metadata": {},
   "source": [
    "## Pregunta 16: \n",
    "Obtenga el equivalente hexadecimal de 34567."
   ]
  },
  {
   "cell_type": "code",
   "execution_count": 36,
   "metadata": {},
   "outputs": [
    {
     "name": "stdout",
     "output_type": "stream",
     "text": [
      "El equivalente hexadecimal de 34567 es: 0x8707\n"
     ]
    }
   ],
   "source": [
    "# Número decimal\n",
    "decimal = 34567\n",
    "\n",
    "# Imprimir el equivalente hexadecimal\n",
    "print(\"El equivalente hexadecimal de 34567 es:\", hex(decimal))"
   ]
  },
  {
   "cell_type": "markdown",
   "metadata": {},
   "source": [
    "## Pregunta 17: \n",
    "Aproxime hasta dos decimales el número 45.67859245."
   ]
  },
  {
   "cell_type": "code",
   "execution_count": 23,
   "metadata": {},
   "outputs": [
    {
     "name": "stdout",
     "output_type": "stream",
     "text": [
      "El número aproximado a dos decimales es: 45.68\n"
     ]
    }
   ],
   "source": [
    "# Número a aproximar\n",
    "numero = 45.67859245\n",
    "\n",
    "# Imprimir el número aproximado\n",
    "print(\"El número aproximado a dos decimales es:\", round(numero, 2))"
   ]
  },
  {
   "cell_type": "markdown",
   "metadata": {},
   "source": [
    "## Pregunta 18: \n",
    "Obtenga 4 a partir de 3.556"
   ]
  },
  {
   "cell_type": "code",
   "execution_count": 24,
   "metadata": {},
   "outputs": [
    {
     "name": "stdout",
     "output_type": "stream",
     "text": [
      "El número entero más cercano es: 4\n"
     ]
    }
   ],
   "source": [
    "# Número decimal\n",
    "numero_decimal = 3.556\n",
    "\n",
    "# Imprimir el número entero más cercano\n",
    "print(\"El número entero más cercano es:\", round(numero_decimal))"
   ]
  },
  {
   "cell_type": "markdown",
   "metadata": {},
   "source": [
    "## Pregunta 19: \n",
    "Obtenga 17 a partir de 16.7844"
   ]
  },
  {
   "cell_type": "code",
   "execution_count": 25,
   "metadata": {},
   "outputs": [
    {
     "name": "stdout",
     "output_type": "stream",
     "text": [
      "El número entero más cercano es: 17\n"
     ]
    }
   ],
   "source": [
    "# Número decimal\n",
    "numero_decimal = 16.7844\n",
    "\n",
    "# Imprimir el número entero más cercano\n",
    "print(\"El número entero más cercano es:\", round(numero_decimal))"
   ]
  },
  {
   "cell_type": "markdown",
   "metadata": {},
   "source": [
    "## Pregunta 20: \n",
    "Calcule el resto de la división con 3.45 y 1.22"
   ]
  },
  {
   "cell_type": "code",
   "execution_count": 26,
   "metadata": {},
   "outputs": [
    {
     "name": "stdout",
     "output_type": "stream",
     "text": [
      "El resto de la división entre 3.45 y 1.22 es: 1.0100000000000002\n"
     ]
    }
   ],
   "source": [
    "# Números para la división\n",
    "dividendo = 3.45\n",
    "divisor = 1.22\n",
    "\n",
    "# Calcular el resto de la división\n",
    "resto = dividendo % divisor\n",
    "\n",
    "# Imprimir el resto de la división\n",
    "print(\"El resto de la división entre 3.45 y 1.22 es:\", resto)"
   ]
  },
  {
   "cell_type": "markdown",
   "metadata": {},
   "source": [
    "## Pregunta 21: \n",
    "Calcule 3,45^1,22"
   ]
  },
  {
   "cell_type": "code",
   "execution_count": 27,
   "metadata": {},
   "outputs": [
    {
     "name": "stdout",
     "output_type": "stream",
     "text": [
      "El resultado de 3.45 elevado a 1.22 es: 4.530428659651715\n"
     ]
    }
   ],
   "source": [
    "# Calcular la potencia\n",
    "resultado = 3.45 ** 1.22\n",
    "\n",
    "# Imprimir el resultado\n",
    "print(\"El resultado de 3.45 elevado a 1.22 es:\", resultado)"
   ]
  },
  {
   "cell_type": "markdown",
   "metadata": {},
   "source": [
    "## Pregunta 22: \n",
    "¿Cuál de los siguientes es un nombre de variable no válido y por qué?\n",
    "\n",
    "BASICSALARY\n",
    "\n",
    "_basic\n",
    "\n",
    "baisc-hra\n",
    "\n",
    "#MEAN\n",
    "\n",
    "group.\n",
    "\n",
    "422\n",
    "\n",
    "pop in 2020\n",
    "\n",
    "over\n",
    "\n",
    "timemindovermatter\n",
    "\n",
    "Plot #3 \n",
    "\n",
    "SINGLE\n",
    "\n",
    "hHello\n",
    "\n",
    "queue.\n",
    "\n",
    "team'svictory\n",
    "\n",
    "2015_DDay"
   ]
  },
  {
   "cell_type": "markdown",
   "metadata": {},
   "source": [
    "\n",
    "### Los nombres de variable no válidos son: BASICSALARY, #MEAN, group., 422, pop in 2020, Plot #3, SINGLE, queue., team'svictory, 2015_DDay"
   ]
  },
  {
   "cell_type": "markdown",
   "metadata": {},
   "source": [
    "## Pregunta 23: \n",
    "Calcule (en Jupyter ) las siguientes operaciones"
   ]
  },
  {
   "cell_type": "code",
   "execution_count": 6,
   "metadata": {},
   "outputs": [
    {
     "data": {
      "text/plain": [
       "0"
      ]
     },
     "execution_count": 6,
     "metadata": {},
     "output_type": "execute_result"
    }
   ],
   "source": [
    "2 ** 6 // 8 % 2"
   ]
  },
  {
   "cell_type": "code",
   "execution_count": 7,
   "metadata": {},
   "outputs": [
    {
     "data": {
      "text/plain": [
       "13"
      ]
     },
     "execution_count": 7,
     "metadata": {},
     "output_type": "execute_result"
    }
   ],
   "source": [
    "9 ** 2 // 5 - 3"
   ]
  },
  {
   "cell_type": "code",
   "execution_count": 8,
   "metadata": {},
   "outputs": [
    {
     "data": {
      "text/plain": [
       "19"
      ]
     },
     "execution_count": 8,
     "metadata": {},
     "output_type": "execute_result"
    }
   ],
   "source": [
    "10 + 6 - 2 % 3 + 7 - 2"
   ]
  },
  {
   "cell_type": "code",
   "execution_count": 9,
   "metadata": {},
   "outputs": [
    {
     "data": {
      "text/plain": [
       "-15"
      ]
     },
     "execution_count": 9,
     "metadata": {},
     "output_type": "execute_result"
    }
   ],
   "source": [
    "5 % 10 + 10 - 23 * 4 // 3"
   ]
  },
  {
   "cell_type": "code",
   "execution_count": 10,
   "metadata": {},
   "outputs": [
    {
     "data": {
      "text/plain": [
       "6"
      ]
     },
     "execution_count": 10,
     "metadata": {},
     "output_type": "execute_result"
    }
   ],
   "source": [
    "5 + 5 // 5 - 5 * 5 ** 5 % 5"
   ]
  },
  {
   "cell_type": "markdown",
   "metadata": {},
   "source": [
    "## Pregunta 24: \n",
    "Evalúe las siguientes expresiones"
   ]
  },
  {
   "cell_type": "code",
   "execution_count": 1,
   "metadata": {},
   "outputs": [
    {
     "data": {
      "text/plain": [
       "2"
      ]
     },
     "execution_count": 1,
     "metadata": {},
     "output_type": "execute_result"
    }
   ],
   "source": [
    "min(2, 6, 8, 5)"
   ]
  },
  {
   "cell_type": "code",
   "execution_count": 2,
   "metadata": {},
   "outputs": [
    {
     "data": {
      "text/plain": [
       "'0b101110'"
      ]
     },
     "execution_count": 2,
     "metadata": {},
     "output_type": "execute_result"
    }
   ],
   "source": [
    "bin(46)"
   ]
  },
  {
   "cell_type": "code",
   "execution_count": 3,
   "metadata": {},
   "outputs": [
    {
     "data": {
      "text/plain": [
       "10.54"
      ]
     },
     "execution_count": 3,
     "metadata": {},
     "output_type": "execute_result"
    }
   ],
   "source": [
    "round(10.544336, 2)"
   ]
  },
  {
   "cell_type": "markdown",
   "metadata": {},
   "source": [
    "## Pregunta 25: \n",
    "Escriba un programa que intercambie los valores enteros de las variables a y b. No está permitido utilizar una tercera variable. No se le permite realizar operaciones aritméticas en a y b."
   ]
  },
  {
   "cell_type": "code",
   "execution_count": 28,
   "metadata": {},
   "outputs": [
    {
     "name": "stdout",
     "output_type": "stream",
     "text": [
      "El nuevo valor de a es: 10\n",
      "El nuevo valor de b es: 5\n"
     ]
    }
   ],
   "source": [
    "# Valores iniciales de a y b\n",
    "a = 5\n",
    "b = 10\n",
    "\n",
    "# Intercambiar los valores de a y b sin usar una tercera variable\n",
    "a = a + b\n",
    "b = a - b\n",
    "a = a - b\n",
    "\n",
    "# Imprimir los nuevos valores de a y b\n",
    "print(\"El nuevo valor de a es:\", a)\n",
    "print(\"El nuevo valor de b es:\", b)"
   ]
  }
 ],
 "metadata": {
  "kernelspec": {
   "display_name": "Curso_Python_2024",
   "language": "python",
   "name": "python3"
  },
  "language_info": {
   "codemirror_mode": {
    "name": "ipython",
    "version": 3
   },
   "file_extension": ".py",
   "mimetype": "text/x-python",
   "name": "python",
   "nbconvert_exporter": "python",
   "pygments_lexer": "ipython3",
   "version": "3.11.9"
  }
 },
 "nbformat": 4,
 "nbformat_minor": 2
}
