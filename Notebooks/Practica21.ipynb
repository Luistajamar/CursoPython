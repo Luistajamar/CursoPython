{
 "cells": [
  {
   "cell_type": "markdown",
   "metadata": {},
   "source": [
    "# PRACTICA 21"
   ]
  },
  {
   "cell_type": "markdown",
   "metadata": {},
   "source": [
    "### 1. Crea una tupla con números enteros con algunos de ellos repetidos, pide un numero por teclado e indica cuantas veces se repite si estuviese en la tupla."
   ]
  },
  {
   "cell_type": "code",
   "execution_count": 1,
   "metadata": {},
   "outputs": [
    {
     "name": "stdout",
     "output_type": "stream",
     "text": [
      "El número 5 se repite 2 veces en la tupla.\n"
     ]
    }
   ],
   "source": [
    "tupla = (1, 2, 3, 4, 5, 2, 3, 4, 5, 2)\n",
    "\n",
    "numero = int(input(\"Ingresa un número entero: \"))\n",
    "\n",
    "repeticiones = tupla.count(numero)\n",
    "\n",
    "print(\"El número\", numero, \"se repite\", repeticiones, \"veces en la tupla.\")"
   ]
  },
  {
   "cell_type": "markdown",
   "metadata": {},
   "source": [
    "### 2. Crea una tupla con números e indica el número con mayor valor y el que menor tenga."
   ]
  },
  {
   "cell_type": "code",
   "execution_count": 1,
   "metadata": {},
   "outputs": [
    {
     "name": "stdout",
     "output_type": "stream",
     "text": [
      "El número con el mayor valor en la tupla es: 74\n",
      "El número con el menor valor en la tupla es: 3\n"
     ]
    }
   ],
   "source": [
    "numeros = (3, 41, 12, 9, 74, 15, 62, 8, 23, 17)\n",
    "\n",
    "print(f\"El número con el mayor valor en la tupla es: {max(numeros)}\")\n",
    "print(f\"El número con el menor valor en la tupla es: {min(numeros)}\")"
   ]
  },
  {
   "cell_type": "markdown",
   "metadata": {},
   "source": [
    "### 3. Crea una tupla con valores ya predefinidos del 1 al 10, pide un índice por teclado y muestra los valores de la tupla."
   ]
  },
  {
   "cell_type": "code",
   "execution_count": 2,
   "metadata": {},
   "outputs": [
    {
     "name": "stdout",
     "output_type": "stream",
     "text": [
      "El valor en el índice 5 es: 6\n"
     ]
    }
   ],
   "source": [
    "tupla = (1, 2, 3, 4, 5, 6, 7, 8, 9, 10)\n",
    "\n",
    "indice = int(input(\"Introduce un índice entre 0 y 9: \"))\n",
    "\n",
    "if 0 <= indice < len(tupla):\n",
    "\n",
    "    print(\"El valor en el índice\", indice, \"es:\", tupla[indice])\n",
    "else:\n",
    "    print(\"El índice está fuera de rango.\")"
   ]
  },
  {
   "cell_type": "markdown",
   "metadata": {},
   "source": [
    "### 4. Escribir un código donde se le pide al usuario almacenar en una tupla el día, mes y año (todos en formato entero) y luego que imprima dicha fecha en el formato: \"03/07/2023\""
   ]
  },
  {
   "cell_type": "code",
   "execution_count": 4,
   "metadata": {},
   "outputs": [],
   "source": [
    "dia = int(input(\"Ingresa el día: \"))\n",
    "mes = int(input(\"Ingresa el mes: \"))\n",
    "año = int(input(\"Ingresa el año: \"))\n",
    "\n",
    "fecha = (dia, mes, año)\n",
    "\n",
    "print(f\"{fecha[0]:02d}/{fecha[1]:02d}/{fecha[2]}\")\n"
   ]
  },
  {
   "cell_type": "markdown",
   "metadata": {},
   "source": [
    "### 5. Definir una tupla con tres valores enteros. Convertir el contenido de la tupla a tipo lista. Modificar la lista y luego convertir la lista en tupla."
   ]
  },
  {
   "cell_type": "code",
   "execution_count": 2,
   "metadata": {},
   "outputs": [
    {
     "name": "stdout",
     "output_type": "stream",
     "text": [
      "Tupla modificada: (1, 2, 3, 4)\n"
     ]
    }
   ],
   "source": [
    "tupla = (1, 2, 3)\n",
    "\n",
    "lista = list(tupla)\n",
    "\n",
    "lista.append(4)\n",
    "\n",
    "tupla_modificada = tuple(lista)\n",
    "\n",
    "print(\"Tupla modificada:\", tupla_modificada)"
   ]
  },
  {
   "cell_type": "markdown",
   "metadata": {},
   "source": [
    "### 6. Crear una tupla y luego imprimirla en orden inverso en otra variable (otra tupla)"
   ]
  },
  {
   "cell_type": "code",
   "execution_count": 3,
   "metadata": {},
   "outputs": [
    {
     "name": "stdout",
     "output_type": "stream",
     "text": [
      "Tupla original: (1, 2, 3, 4, 5)\n",
      "Tupla en orden inverso: (5, 4, 3, 2, 1)\n"
     ]
    }
   ],
   "source": [
    "tupla_original = (1, 2, 3, 4, 5)\n",
    "\n",
    "print(\"Tupla original:\", tupla_original)\n",
    "print(\"Tupla en orden inverso:\", tupla_original[::-1])"
   ]
  },
  {
   "cell_type": "markdown",
   "metadata": {},
   "source": [
    "### 7 Dada la tupla: tuple1 = (\"Orange\", [10, 20, 30], (5, 15, 25)) Acceder al valor '20' e imprimir en una nueva variable"
   ]
  },
  {
   "cell_type": "code",
   "execution_count": 9,
   "metadata": {},
   "outputs": [
    {
     "name": "stdout",
     "output_type": "stream",
     "text": [
      "El valor '20' es: 20\n"
     ]
    }
   ],
   "source": [
    "tuple1 = (\"Orange\", [10, 20, 30], (5, 15, 25))\n",
    "\n",
    "print(\"El valor '20' es:\", tuple1[1][1])"
   ]
  },
  {
   "cell_type": "markdown",
   "metadata": {},
   "source": [
    "### 8. Escriba un programa para descomprimir la siguiente tupla en cuatro variables e imprimir cada variable. tuple1 = (10, 20, 30, 40)\n",
    "\n",
    "Salida esperada:\n",
    "\n",
    "tuple1 = (10, 20, 30, 40)\n",
    "\n",
    " Your code\n",
    "\n",
    "print(a) # should print 10\n",
    "\n",
    "print(b) # should print 20\n",
    "\n",
    "print (c) # should print 30\n",
    "\n",
    "print(d) # should print 40"
   ]
  },
  {
   "cell_type": "code",
   "execution_count": 6,
   "metadata": {},
   "outputs": [
    {
     "name": "stdout",
     "output_type": "stream",
     "text": [
      "10\n",
      "20\n",
      "30\n",
      "40\n"
     ]
    }
   ],
   "source": [
    "tuple1 = (10, 20, 30, 40)\n",
    "\n",
    "a, b, c, d = tuple1\n",
    "\n",
    "print(a)\n",
    "print(b)  \n",
    "print(c) \n",
    "print(d) "
   ]
  },
  {
   "cell_type": "markdown",
   "metadata": {},
   "source": [
    "### 9. Intercambiar dos tuplas en Python dados:\n",
    "\n",
    "tuple1 = (11, 22)\n",
    "\n",
    "tuple2 = (99, 88)\n",
    "\n",
    "Salida esperada:\n",
    "\n",
    "tuple1: (99, 88)\n",
    "\n",
    "tuple2: (11, 22)"
   ]
  },
  {
   "cell_type": "code",
   "execution_count": 7,
   "metadata": {},
   "outputs": [
    {
     "name": "stdout",
     "output_type": "stream",
     "text": [
      "tuple1: (99, 88)\n",
      "tuple2: (11, 22)\n"
     ]
    }
   ],
   "source": [
    "tuple1 = (11, 22)\n",
    "tuple2 = (99, 88)\n",
    "\n",
    "tuple1, tuple2 = tuple2, tuple1\n",
    "\n",
    "print(\"tuple1:\", tuple1)\n",
    "print(\"tuple2:\", tuple2)"
   ]
  },
  {
   "cell_type": "markdown",
   "metadata": {},
   "source": [
    "### 10. ¿Cuántas veces aparece 777 en la siguiente tupla? Escribir código\n",
    "tt =（55,6,777、54,6,76,7777.1,777,2,6）"
   ]
  },
  {
   "cell_type": "code",
   "execution_count": 8,
   "metadata": {},
   "outputs": [
    {
     "name": "stdout",
     "output_type": "stream",
     "text": [
      "El valor 777 aparece 2 veces en la tupla.\n"
     ]
    }
   ],
   "source": [
    "tt = (55, 6, 777, 54, 6, 76, 7777, 1, 777, 2, 6)\n",
    "\n",
    "# Contar cuántas veces aparece el valor 777 en la tupla\n",
    "apariciones = tt.count(777)\n",
    "\n",
    "# Imprimir el resultado\n",
    "print(\"El valor 777 aparece\", apariciones, \"veces en la tupla.\")"
   ]
  }
 ],
 "metadata": {
  "kernelspec": {
   "display_name": "anaconda-toolbox",
   "language": "python",
   "name": "python3"
  },
  "language_info": {
   "codemirror_mode": {
    "name": "ipython",
    "version": 3
   },
   "file_extension": ".py",
   "mimetype": "text/x-python",
   "name": "python",
   "nbconvert_exporter": "python",
   "pygments_lexer": "ipython3",
   "version": "3.11.9"
  }
 },
 "nbformat": 4,
 "nbformat_minor": 2
}
