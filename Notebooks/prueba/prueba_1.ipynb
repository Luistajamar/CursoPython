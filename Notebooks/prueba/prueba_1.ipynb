{
 "cells": [
  {
   "cell_type": "code",
   "execution_count": null,
   "id": "bb075502",
   "metadata": {},
   "outputs": [],
   "source": [
    "print(2 + 2)"
   ]
  },
  {
   "cell_type": "markdown",
   "id": "b27d4354-3491-4d7a-a929-1549ff1a230d",
   "metadata": {},
   "source": [
    "# Prueba"
   ]
  },
  {
   "cell_type": "markdown",
   "id": "cead8eb1-c863-4c65-8bea-6df63c3883bc",
   "metadata": {},
   "source": [
    "## Sección"
   ]
  },
  {
   "cell_type": "markdown",
   "id": "a5e80939-01ac-45d0-9761-e90973e695d3",
   "metadata": {},
   "source": [
    "### Subsección"
   ]
  },
  {
   "cell_type": "code",
   "execution_count": 2,
   "id": "8a271469-c5e9-4cb9-ba32-baa3a4f6ecfe",
   "metadata": {},
   "outputs": [
    {
     "name": "stdout",
     "output_type": "stream",
     "text": [
      "The Zen of Python, by Tim Peters\n",
      "\n",
      "Beautiful is better than ugly.\n",
      "Explicit is better than implicit.\n",
      "Simple is better than complex.\n",
      "Complex is better than complicated.\n",
      "Flat is better than nested.\n",
      "Sparse is better than dense.\n",
      "Readability counts.\n",
      "Special cases aren't special enough to break the rules.\n",
      "Although practicality beats purity.\n",
      "Errors should never pass silently.\n",
      "Unless explicitly silenced.\n",
      "In the face of ambiguity, refuse the temptation to guess.\n",
      "There should be one-- and preferably only one --obvious way to do it.\n",
      "Although that way may not be obvious at first unless you're Dutch.\n",
      "Now is better than never.\n",
      "Although never is often better than *right* now.\n",
      "If the implementation is hard to explain, it's a bad idea.\n",
      "If the implementation is easy to explain, it may be a good idea.\n",
      "Namespaces are one honking great idea -- let's do more of those!\n"
     ]
    }
   ],
   "source": [
    "import this"
   ]
  },
  {
   "cell_type": "code",
   "execution_count": 3,
   "id": "5007391f-00a9-4535-85fb-afbd94e89efb",
   "metadata": {},
   "outputs": [
    {
     "name": "stdout",
     "output_type": "stream",
     "text": [
      "¡Hola, Mundo!\n"
     ]
    }
   ],
   "source": [
    "print(\"¡Hola, Mundo!\")"
   ]
  },
  {
   "cell_type": "code",
   "execution_count": 4,
   "id": "f948135f-24c8-4280-9781-cd1704d335f6",
   "metadata": {},
   "outputs": [
    {
     "name": "stdout",
     "output_type": "stream",
     "text": [
      "4\n"
     ]
    }
   ],
   "source": [
    "# Esta linea es un comentario\n",
    "# Los comentarios son ignorados\n",
    "# Pueden ser una linea nueva\n",
    "print(2 + 2) # O puede acompañar una linea de codigo existente\n",
    "# print 2 + 3 Si comentamos al principio toda la linea sera ignorada\n"
   ]
  },
  {
   "cell_type": "code",
   "execution_count": 5,
   "id": "268e4819-fd8a-4e5f-9407-a725247b1d76",
   "metadata": {},
   "outputs": [
    {
     "name": "stdout",
     "output_type": "stream",
     "text": [
      "Hola\n"
     ]
    }
   ],
   "source": [
    "\"\"\"\n",
    "Comentario multilinea:\n",
    "Python\n",
    "lo ignorará\n",
    "\"\"\"\n",
    "print (\"Hola\")"
   ]
  },
  {
   "cell_type": "code",
   "execution_count": 6,
   "id": "b8c65280-2999-4976-bc13-3f217d3034d9",
   "metadata": {},
   "outputs": [
    {
     "data": {
      "text/plain": [
       "1"
      ]
     },
     "execution_count": 6,
     "metadata": {},
     "output_type": "execute_result"
    }
   ],
   "source": [
    "# Vamos a definir la variable x y asignarle el valor 1\n",
    "x = 1 # Aquí está nuestra variable x\n",
    "# Esto es otro comentario\n",
    "# Y ninguno de los comentarios se ejecutará\n",
    "x"
   ]
  },
  {
   "cell_type": "code",
   "execution_count": 8,
   "id": "5211e1b2-c272-4c00-8b2f-08d5be3f4ca3",
   "metadata": {},
   "outputs": [],
   "source": [
    "total_population = 157_503\n",
    "avg_temperature = 16.8\n",
    "city_name = 'San Cristobal de la Laguna'"
   ]
  },
  {
   "cell_type": "code",
   "execution_count": 10,
   "id": "9b1be01a-e1bc-4945-997a-7fac5745989c",
   "metadata": {},
   "outputs": [
    {
     "data": {
      "text/plain": [
       "1"
      ]
     },
     "execution_count": 10,
     "metadata": {},
     "output_type": "execute_result"
    }
   ],
   "source": [
    "x = 1\n",
    "x"
   ]
  },
  {
   "cell_type": "code",
   "execution_count": 12,
   "id": "b3bb96f1-a94d-4d18-a9e1-f3c931e79670",
   "metadata": {},
   "outputs": [
    {
     "data": {
      "text/plain": [
       "'Hola'"
      ]
     },
     "execution_count": 12,
     "metadata": {},
     "output_type": "execute_result"
    }
   ],
   "source": [
    "y = \"Hola\"\n",
    "y"
   ]
  },
  {
   "cell_type": "code",
   "execution_count": 15,
   "id": "3c6e52ed-79dc-4dc1-b95b-1783614729ce",
   "metadata": {},
   "outputs": [
    {
     "data": {
      "text/plain": [
       "['False',\n",
       " 'None',\n",
       " 'True',\n",
       " 'and',\n",
       " 'as',\n",
       " 'assert',\n",
       " 'async',\n",
       " 'await',\n",
       " 'break',\n",
       " 'class',\n",
       " 'continue',\n",
       " 'def',\n",
       " 'del',\n",
       " 'elif',\n",
       " 'else',\n",
       " 'except',\n",
       " 'finally',\n",
       " 'for',\n",
       " 'from',\n",
       " 'global',\n",
       " 'if',\n",
       " 'import',\n",
       " 'in',\n",
       " 'is',\n",
       " 'lambda',\n",
       " 'nonlocal',\n",
       " 'not',\n",
       " 'or',\n",
       " 'pass',\n",
       " 'raise',\n",
       " 'return',\n",
       " 'try',\n",
       " 'while',\n",
       " 'with',\n",
       " 'yield']"
      ]
     },
     "execution_count": 15,
     "metadata": {},
     "output_type": "execute_result"
    }
   ],
   "source": [
    "import keyword\n",
    "keyword.kwlist"
   ]
  },
  {
   "cell_type": "code",
   "execution_count": 16,
   "id": "ea8d6da1-7560-4fe8-ac70-3bfe4e5b5353",
   "metadata": {},
   "outputs": [
    {
     "name": "stdout",
     "output_type": "stream",
     "text": [
      "\n",
      "Here is a list of the Python keywords.  Enter any keyword to get more help.\n",
      "\n",
      "False               class               from                or\n",
      "None                continue            global              pass\n",
      "True                def                 if                  raise\n",
      "and                 del                 import              return\n",
      "as                  elif                in                  try\n",
      "assert              else                is                  while\n",
      "async               except              lambda              with\n",
      "await               finally             nonlocal            yield\n",
      "break               for                 not                 \n",
      "\n"
     ]
    }
   ],
   "source": [
    "help('keywords')"
   ]
  },
  {
   "cell_type": "code",
   "execution_count": 1,
   "id": "03ab4d27-919a-4ce4-93d5-f802f31d822d",
   "metadata": {},
   "outputs": [],
   "source": [
    "entero = 23"
   ]
  },
  {
   "cell_type": "code",
   "execution_count": 2,
   "id": "dbf937b3-4daf-40fc-8aba-691949eb6d2b",
   "metadata": {},
   "outputs": [],
   "source": [
    "entero = 33"
   ]
  },
  {
   "cell_type": "code",
   "execution_count": 3,
   "id": "158c5293-c9a9-4ffb-8e78-0eb85c585d7b",
   "metadata": {},
   "outputs": [
    {
     "data": {
      "text/plain": [
       "33"
      ]
     },
     "execution_count": 3,
     "metadata": {},
     "output_type": "execute_result"
    }
   ],
   "source": [
    "entero"
   ]
  },
  {
   "cell_type": "code",
   "execution_count": 4,
   "id": "e772cffd-e207-410a-acb7-ef7367b7dc7d",
   "metadata": {},
   "outputs": [],
   "source": [
    "age, name = 22, 'Maria'"
   ]
  },
  {
   "cell_type": "code",
   "execution_count": 5,
   "id": "47dc7c6a-6370-45c6-b6a4-0b6d62fe5283",
   "metadata": {},
   "outputs": [
    {
     "data": {
      "text/plain": [
       "22"
      ]
     },
     "execution_count": 5,
     "metadata": {},
     "output_type": "execute_result"
    }
   ],
   "source": [
    "age"
   ]
  },
  {
   "cell_type": "code",
   "execution_count": 6,
   "id": "62e96afc-1b99-4457-88aa-e6c9ef8fdd35",
   "metadata": {},
   "outputs": [
    {
     "data": {
      "text/plain": [
       "'Maria'"
      ]
     },
     "execution_count": 6,
     "metadata": {},
     "output_type": "execute_result"
    }
   ],
   "source": [
    "name"
   ]
  },
  {
   "cell_type": "code",
   "execution_count": 7,
   "id": "5f544429-56f2-444e-96bb-dd9179e2284a",
   "metadata": {},
   "outputs": [],
   "source": [
    "tres = three = drei = 3"
   ]
  },
  {
   "cell_type": "code",
   "execution_count": 8,
   "id": "978da55f-26dd-410b-b5f1-03c63c679bd5",
   "metadata": {},
   "outputs": [
    {
     "data": {
      "text/plain": [
       "3"
      ]
     },
     "execution_count": 8,
     "metadata": {},
     "output_type": "execute_result"
    }
   ],
   "source": [
    "three"
   ]
  },
  {
   "cell_type": "code",
   "execution_count": 9,
   "id": "ec2eedea-0d7e-4bc7-b7f8-df7bc9fd3236",
   "metadata": {},
   "outputs": [
    {
     "data": {
      "text/plain": [
       "3"
      ]
     },
     "execution_count": 9,
     "metadata": {},
     "output_type": "execute_result"
    }
   ],
   "source": [
    "drei"
   ]
  },
  {
   "cell_type": "code",
   "execution_count": 10,
   "id": "96d028f4-039f-47eb-b8e7-e28e096c4260",
   "metadata": {},
   "outputs": [],
   "source": [
    "people = 157503"
   ]
  },
  {
   "cell_type": "code",
   "execution_count": 11,
   "id": "7036604f-54af-42cf-b5ff-88ecb65349a9",
   "metadata": {},
   "outputs": [],
   "source": [
    "total_population = people"
   ]
  },
  {
   "cell_type": "code",
   "execution_count": 12,
   "id": "f21fc559-724c-41df-af6c-e349195c53e3",
   "metadata": {},
   "outputs": [
    {
     "data": {
      "text/plain": [
       "157503"
      ]
     },
     "execution_count": 12,
     "metadata": {},
     "output_type": "execute_result"
    }
   ],
   "source": [
    "total_population"
   ]
  },
  {
   "cell_type": "code",
   "execution_count": 13,
   "id": "8703b1f6-eefc-40db-92c9-e59619f5c388",
   "metadata": {},
   "outputs": [],
   "source": [
    "final_stock = 38934"
   ]
  },
  {
   "cell_type": "code",
   "execution_count": 14,
   "id": "70f5fdb9-2f05-4a3c-829e-bd4cb566fdc2",
   "metadata": {},
   "outputs": [
    {
     "data": {
      "text/plain": [
       "38934"
      ]
     },
     "execution_count": 14,
     "metadata": {},
     "output_type": "execute_result"
    }
   ],
   "source": [
    "final_stock"
   ]
  },
  {
   "cell_type": "code",
   "execution_count": 15,
   "id": "b8b53768-b76b-4de5-b690-917042418440",
   "metadata": {},
   "outputs": [
    {
     "name": "stdout",
     "output_type": "stream",
     "text": [
      "38934\n"
     ]
    }
   ],
   "source": [
    "print(final_stock)"
   ]
  },
  {
   "cell_type": "code",
   "execution_count": 16,
   "id": "4c04acef-86dc-4b98-9973-ac1a6598d238",
   "metadata": {},
   "outputs": [
    {
     "data": {
      "text/plain": [
       "int"
      ]
     },
     "execution_count": 16,
     "metadata": {},
     "output_type": "execute_result"
    }
   ],
   "source": [
    "# type(9)"
   ]
  },
  {
   "cell_type": "code",
   "execution_count": 17,
   "id": "c418e840-c804-4a21-9e9c-00c7890fbdae",
   "metadata": {},
   "outputs": [
    {
     "data": {
      "text/plain": [
       "float"
      ]
     },
     "execution_count": 17,
     "metadata": {},
     "output_type": "execute_result"
    }
   ],
   "source": [
    "# type(1.2)"
   ]
  },
  {
   "cell_type": "code",
   "execution_count": 18,
   "id": "4ed49a2a-72c4-46c2-a261-838ddcce5ae1",
   "metadata": {},
   "outputs": [],
   "source": [
    "height = 3718"
   ]
  },
  {
   "cell_type": "code",
   "execution_count": 19,
   "id": "7201f299-f585-478e-994e-f90168d7855f",
   "metadata": {},
   "outputs": [
    {
     "data": {
      "text/plain": [
       "int"
      ]
     },
     "execution_count": 19,
     "metadata": {},
     "output_type": "execute_result"
    }
   ],
   "source": [
    "# type(height)"
   ]
  },
  {
   "cell_type": "code",
   "execution_count": 20,
   "id": "cf2fba3c-9ff3-4aae-bf51-560fa23ead3b",
   "metadata": {},
   "outputs": [],
   "source": [
    "sound_speed = 343.2"
   ]
  },
  {
   "cell_type": "code",
   "execution_count": 21,
   "id": "0ffc8fbb-1726-4e5f-91b2-1f5915a2acca",
   "metadata": {},
   "outputs": [
    {
     "data": {
      "text/plain": [
       "float"
      ]
     },
     "execution_count": 21,
     "metadata": {},
     "output_type": "execute_result"
    }
   ],
   "source": [
    "# type(sound_speed)"
   ]
  },
  {
   "cell_type": "markdown",
   "id": "facec801-46ed-4c03-bb7e-ae3f12b196a9",
   "metadata": {},
   "source": [
    "# ACTIVIDAD"
   ]
  },
  {
   "cell_type": "markdown",
   "id": "44f6f091-222f-4162-90ff-1cdf99881e3d",
   "metadata": {},
   "source": [
    "### Asigna un valor entero 2001 a la variable space_odyssey y muestra su valor"
   ]
  },
  {
   "cell_type": "code",
   "execution_count": 22,
   "id": "740f04b9-e87c-4dae-8e68-09cfd3c9791a",
   "metadata": {},
   "outputs": [],
   "source": [
    "space_odyssey = 2001"
   ]
  },
  {
   "cell_type": "code",
   "execution_count": 23,
   "id": "f164fc48-f198-4695-a21f-f8699bb4aee0",
   "metadata": {},
   "outputs": [
    {
     "data": {
      "text/plain": [
       "2001"
      ]
     },
     "execution_count": 23,
     "metadata": {},
     "output_type": "execute_result"
    }
   ],
   "source": [
    "space_odyssey"
   ]
  },
  {
   "cell_type": "markdown",
   "id": "20dd3703-c41e-4957-8eee-29cd34211928",
   "metadata": {},
   "source": [
    "### Descubre el tipo del literal 'Good night & Good Luck'."
   ]
  },
  {
   "cell_type": "code",
   "execution_count": 8,
   "id": "bbfec163-eb15-401a-bb02-81347be0f4a9",
   "metadata": {},
   "outputs": [],
   "source": [
    "literal = 'Good night & Good Luck'"
   ]
  },
  {
   "cell_type": "code",
   "execution_count": 9,
   "id": "bd8d2d59-e21a-4285-a70f-e93495231967",
   "metadata": {},
   "outputs": [
    {
     "data": {
      "text/plain": [
       "'Good night & Good Luck'"
      ]
     },
     "execution_count": 9,
     "metadata": {},
     "output_type": "execute_result"
    }
   ],
   "source": [
    "literal"
   ]
  },
  {
   "cell_type": "code",
   "execution_count": 10,
   "id": "29346753-12ca-4463-a854-b0d437f44329",
   "metadata": {},
   "outputs": [
    {
     "name": "stdout",
     "output_type": "stream",
     "text": [
      "Good night & Good Luck\n"
     ]
    }
   ],
   "source": [
    "print(literal)"
   ]
  },
  {
   "cell_type": "code",
   "execution_count": 11,
   "id": "05196fc9-d596-4057-8d5a-119740caa4b5",
   "metadata": {},
   "outputs": [
    {
     "data": {
      "text/plain": [
       "str"
      ]
     },
     "execution_count": 11,
     "metadata": {},
     "output_type": "execute_result"
    }
   ],
   "source": [
    "type(literal)"
   ]
  },
  {
   "cell_type": "markdown",
   "id": "b76a6424-ce60-4d51-bf20-965fd7845164",
   "metadata": {},
   "source": [
    "### Asigna la expresión 10 * 3.0 a la variable result y muestra su tipo."
   ]
  },
  {
   "cell_type": "code",
   "execution_count": 5,
   "id": "3687f1f2-491d-408a-b8ca-07fda123fa73",
   "metadata": {},
   "outputs": [],
   "source": [
    "result = 10 * 3.0"
   ]
  },
  {
   "cell_type": "code",
   "execution_count": 6,
   "id": "a7db943d-f5be-4f5c-8c31-35a0c92aec6e",
   "metadata": {},
   "outputs": [
    {
     "name": "stdout",
     "output_type": "stream",
     "text": [
      "30.0\n"
     ]
    }
   ],
   "source": [
    "print(result)"
   ]
  },
  {
   "cell_type": "code",
   "execution_count": 14,
   "id": "ecb9e8e6-3f52-4159-958c-303ec667cf70",
   "metadata": {},
   "outputs": [
    {
     "ename": "SyntaxError",
     "evalue": "invalid syntax (1556881388.py, line 1)",
     "output_type": "error",
     "traceback": [
      "\u001b[1;36m  Cell \u001b[1;32mIn[14], line 1\u001b[1;36m\u001b[0m\n\u001b[1;33m    true Ç(literal)\u001b[0m\n\u001b[1;37m         ^\u001b[0m\n\u001b[1;31mSyntaxError\u001b[0m\u001b[1;31m:\u001b[0m invalid syntax\n"
     ]
    }
   ],
   "source": [
    "true Ç(literal)"
   ]
  },
  {
   "cell_type": "code",
   "execution_count": null,
   "id": "2f52ad10-a404-491e-8812-dc41838db396",
   "metadata": {},
   "outputs": [],
   "source": []
  }
 ],
 "metadata": {
  "kernelspec": {
   "display_name": "Python 3 (ipykernel)",
   "language": "python",
   "name": "python3"
  },
  "language_info": {
   "codemirror_mode": {
    "name": "ipython",
    "version": 3
   },
   "file_extension": ".py",
   "mimetype": "text/x-python",
   "name": "python",
   "nbconvert_exporter": "python",
   "pygments_lexer": "ipython3",
   "version": "3.12.3"
  }
 },
 "nbformat": 4,
 "nbformat_minor": 5
}
