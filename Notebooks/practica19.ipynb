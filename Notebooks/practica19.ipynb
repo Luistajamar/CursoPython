{
 "cells": [
  {
   "cell_type": "markdown",
   "metadata": {},
   "source": [
    "# PRACTICA 19 \"BUCLES O CICLO FOR\""
   ]
  },
  {
   "cell_type": "markdown",
   "metadata": {},
   "source": [
    "### 1. Escriba un programa que le pida al usuario un número entero mayor que cero y que luego imprima en pantalla sus divisores."
   ]
  },
  {
   "cell_type": "code",
   "execution_count": 1,
   "metadata": {},
   "outputs": [
    {
     "name": "stdout",
     "output_type": "stream",
     "text": [
      "Los divisores de 10 son:\n",
      "1\n",
      "2\n",
      "5\n",
      "10\n"
     ]
    }
   ],
   "source": [
    "numero = int(input(\"Ingrese un número entero mayor que cero: \"))\n",
    "\n",
    "if numero <= 0:\n",
    "    print(\"El número debe ser mayor que cero.\")\n",
    "else:\n",
    "    print(\"Los divisores de\", numero, \"son:\")\n",
    "\n",
    "    for i in range(1, numero + 1):\n",
    "        if numero % i == 0:\n",
    "            print(i)\n",
    "\n"
   ]
  },
  {
   "cell_type": "markdown",
   "metadata": {},
   "source": [
    "### 2. Escriba un programa que pregunte al usuario cuántos números se van a introducir, pida esos números y escriba cuántos negativos ha introducido."
   ]
  },
  {
   "cell_type": "code",
   "execution_count": 2,
   "metadata": {},
   "outputs": [
    {
     "name": "stdout",
     "output_type": "stream",
     "text": [
      "Has introducido 3 números negativos.\n"
     ]
    }
   ],
   "source": [
    "cantidad_numeros = int(input(\"¿Cuántos números vas a introducir?: \"))\n",
    "\n",
    "numeros_negativos = 0\n",
    "\n",
    "for i in range(cantidad_numeros):\n",
    "    numero = float(input(\"Introduce el número {}: \".format(i + 1)))\n",
    "    if numero < 0:\n",
    "        numeros_negativos += 1\n",
    "\n",
    "print(\"Has introducido\", numeros_negativos, \"números negativos.\")\n"
   ]
  },
  {
   "cell_type": "markdown",
   "metadata": {},
   "source": [
    "### 3. Escriba un programa que pida dos números enteros y escriba qué números son pares y cuáles impares desde el primero hasta el segundo."
   ]
  },
  {
   "cell_type": "code",
   "execution_count": 4,
   "metadata": {},
   "outputs": [
    {
     "name": "stdout",
     "output_type": "stream",
     "text": [
      "Números pares entre 5 y 8 :\n",
      "6\n",
      "8\n",
      "Números impares entre 5 y 8 :\n",
      "5\n",
      "7\n"
     ]
    }
   ],
   "source": [
    "numero1 = int(input(\"Ingrese el primer número entero: \"))\n",
    "numero2 = int(input(\"Ingrese el segundo número entero: \"))\n",
    "\n",
    "print(\"Números pares entre\", numero1, \"y\", numero2, \":\")\n",
    "for i in range(numero1, numero2 + 1):\n",
    "    if i % 2 == 0:\n",
    "        print(i)\n",
    "\n",
    "print(\"Números impares entre\", numero1, \"y\", numero2, \":\")\n",
    "for i in range(numero1, numero2 + 1):\n",
    "    if i % 2 != 0:\n",
    "        print(i)\n"
   ]
  },
  {
   "cell_type": "markdown",
   "metadata": {},
   "source": [
    "### 4. Escriba un programa que pregunte cuántos números se van a introducir, pida esos números, y diga al final cuántos han sido pares y cuántos impares."
   ]
  },
  {
   "cell_type": "code",
   "execution_count": 5,
   "metadata": {},
   "outputs": [
    {
     "name": "stdout",
     "output_type": "stream",
     "text": [
      "Has introducido 4 números pares y 6 números impares.\n"
     ]
    }
   ],
   "source": [
    "cantidad_numeros = int(input(\"¿Cuántos números vas a introducir?: \"))\n",
    "\n",
    "numeros_pares = 0\n",
    "numeros_impares = 0\n",
    "\n",
    "for i in range(cantidad_numeros):\n",
    "    numero = int(input(\"Introduce el número {}: \".format(i + 1)))\n",
    "    if numero % 2 == 0:\n",
    "        numeros_pares += 1\n",
    "    else:\n",
    "        numeros_impares += 1\n",
    "\n",
    "print(\"Has introducido\", numeros_pares, \"números pares y\", numeros_impares, \"números impares.\")\n"
   ]
  },
  {
   "cell_type": "markdown",
   "metadata": {},
   "source": [
    "### 5. Escriba un programa que pregunte cuantos números se van a introducir, pida esos números (que puedan ser decimales) y calcule su suma."
   ]
  },
  {
   "cell_type": "code",
   "execution_count": 6,
   "metadata": {},
   "outputs": [
    {
     "name": "stdout",
     "output_type": "stream",
     "text": [
      "La suma de los números introducidos es: 15.5\n"
     ]
    }
   ],
   "source": [
    "cantidad_numeros = int(input(\"¿Cuántos números vas a introducir?: \"))\n",
    "\n",
    "suma_numeros = 0\n",
    "\n",
    "for i in range(cantidad_numeros):\n",
    "    numero = float(input(\"Introduce el número {}: \".format(i + 1)))\n",
    "    suma_numeros += numero\n",
    "\n",
    "print(\"La suma de los números introducidos es:\", suma_numeros)"
   ]
  },
  {
   "cell_type": "markdown",
   "metadata": {},
   "source": [
    "### 6. Imprimir todos los dígitos decimales, del 0 al 9, utilizando una repetición."
   ]
  },
  {
   "cell_type": "code",
   "execution_count": 7,
   "metadata": {},
   "outputs": [
    {
     "name": "stdout",
     "output_type": "stream",
     "text": [
      "0\n",
      "1\n",
      "2\n",
      "3\n",
      "4\n",
      "5\n",
      "6\n",
      "7\n",
      "8\n",
      "9\n"
     ]
    }
   ],
   "source": [
    "for digito in range(10):\n",
    "    print(digito)"
   ]
  },
  {
   "cell_type": "markdown",
   "metadata": {},
   "source": [
    "### 7. Imprimir todos los números entre el 100 y el 199."
   ]
  },
  {
   "cell_type": "code",
   "execution_count": 8,
   "metadata": {},
   "outputs": [
    {
     "name": "stdout",
     "output_type": "stream",
     "text": [
      "100\n",
      "101\n",
      "102\n",
      "103\n",
      "104\n",
      "105\n",
      "106\n",
      "107\n",
      "108\n",
      "109\n",
      "110\n",
      "111\n",
      "112\n",
      "113\n",
      "114\n",
      "115\n",
      "116\n",
      "117\n",
      "118\n",
      "119\n",
      "120\n",
      "121\n",
      "122\n",
      "123\n",
      "124\n",
      "125\n",
      "126\n",
      "127\n",
      "128\n",
      "129\n",
      "130\n",
      "131\n",
      "132\n",
      "133\n",
      "134\n",
      "135\n",
      "136\n",
      "137\n",
      "138\n",
      "139\n",
      "140\n",
      "141\n",
      "142\n",
      "143\n",
      "144\n",
      "145\n",
      "146\n",
      "147\n",
      "148\n",
      "149\n",
      "150\n",
      "151\n",
      "152\n",
      "153\n",
      "154\n",
      "155\n",
      "156\n",
      "157\n",
      "158\n",
      "159\n",
      "160\n",
      "161\n",
      "162\n",
      "163\n",
      "164\n",
      "165\n",
      "166\n",
      "167\n",
      "168\n",
      "169\n",
      "170\n",
      "171\n",
      "172\n",
      "173\n",
      "174\n",
      "175\n",
      "176\n",
      "177\n",
      "178\n",
      "179\n",
      "180\n",
      "181\n",
      "182\n",
      "183\n",
      "184\n",
      "185\n",
      "186\n",
      "187\n",
      "188\n",
      "189\n",
      "190\n",
      "191\n",
      "192\n",
      "193\n",
      "194\n",
      "195\n",
      "196\n",
      "197\n",
      "198\n",
      "199\n"
     ]
    }
   ],
   "source": [
    "for numero in range(100, 200):\n",
    "    print(numero)"
   ]
  },
  {
   "cell_type": "markdown",
   "metadata": {},
   "source": [
    "### 8. Imprimir los números entre el 5 y el 20, saltando de tres en tres."
   ]
  },
  {
   "cell_type": "code",
   "execution_count": 9,
   "metadata": {},
   "outputs": [
    {
     "name": "stdout",
     "output_type": "stream",
     "text": [
      "5\n",
      "8\n",
      "11\n",
      "14\n",
      "17\n",
      "20\n"
     ]
    }
   ],
   "source": [
    "for numero in range(5, 21, 3):\n",
    "    print(numero)"
   ]
  },
  {
   "cell_type": "markdown",
   "metadata": {},
   "source": [
    "### 9. Solicitar al usuario que ingrese una frase y luego imprimir un listado de las vocales que aparecen en esa frase (sin repetirlas)."
   ]
  },
  {
   "cell_type": "code",
   "execution_count": 10,
   "metadata": {},
   "outputs": [
    {
     "name": "stdout",
     "output_type": "stream",
     "text": [
      "Las vocales que aparecen en la frase son: u, o, a, e\n"
     ]
    }
   ],
   "source": [
    "frase = input(\"Ingrese una frase: \")\n",
    "\n",
    "vocales = set()\n",
    "\n",
    "for caracter in frase:\n",
    "    if caracter.lower() in \"aeiou\":\n",
    "        vocales.add(caracter.lower())\n",
    "\n",
    "print(\"Las vocales que aparecen en la frase son:\", \", \".join(vocales))"
   ]
  },
  {
   "cell_type": "markdown",
   "metadata": {},
   "source": [
    "### 10. Solicitar al usuario que ingrese una frase y luego imprimir la cantidad de vocales que se encuentran en dicha frase."
   ]
  },
  {
   "cell_type": "code",
   "execution_count": 11,
   "metadata": {},
   "outputs": [
    {
     "name": "stdout",
     "output_type": "stream",
     "text": [
      "La cantidad de vocales en la frase es: 4\n"
     ]
    }
   ],
   "source": [
    "frase = input(\"Ingrese una frase: \")\n",
    "\n",
    "cantidad_vocales = 0\n",
    "\n",
    "for caracter in frase:\n",
    "    if caracter.lower() in \"aeiou\":\n",
    "        cantidad_vocales += 1\n",
    "\n",
    "print(\"La cantidad de vocales en la frase es:\", cantidad_vocales)"
   ]
  },
  {
   "cell_type": "markdown",
   "metadata": {},
   "source": [
    "### 11. Escribir un programa que muestre la sumatoria de todos los números entre el 0 y el 100"
   ]
  },
  {
   "cell_type": "code",
   "execution_count": 13,
   "metadata": {},
   "outputs": [
    {
     "name": "stdout",
     "output_type": "stream",
     "text": [
      "La sumatoria de todos los números entre 0 y 100 es: 5050\n"
     ]
    }
   ],
   "source": [
    "sumatoria = 0\n",
    "\n",
    "for numero in range(101):\n",
    "    sumatoria += numero\n",
    "\n",
    "print(\"La sumatoria de todos los números entre 0 y 100 es:\", sumatoria)\n"
   ]
  },
  {
   "cell_type": "markdown",
   "metadata": {},
   "source": [
    "### 12. Escribir un programa que muestre la sumatoria de todos los múltiplos de 3 encontrados entre el 0 y el 100."
   ]
  },
  {
   "cell_type": "code",
   "execution_count": 14,
   "metadata": {},
   "outputs": [
    {
     "name": "stdout",
     "output_type": "stream",
     "text": [
      "La sumatoria de todos los múltiplos de 3 entre 0 y 100 es: 1683\n"
     ]
    }
   ],
   "source": [
    "sumatoria = 0\n",
    "\n",
    "for numero in range(0, 101, 3):\n",
    "    sumatoria += numero\n",
    "\n",
    "print(\"La sumatoria de todos los múltiplos de 3 entre 0 y 100 es:\", sumatoria)"
   ]
  },
  {
   "cell_type": "markdown",
   "metadata": {},
   "source": [
    "### 13. Escribir un programa que permita al usuario ingresar 6 números enteros, que pueden ser positivos o negativos. Al finalizar, mostrar la sumatoria de los números negativos y el promedio  de los positivos. No olvides que no es posible dividir por cero, por lo que es necesario evitar que el programa arroje un error si no se ingresaron números positivos."
   ]
  },
  {
   "cell_type": "code",
   "execution_count": 15,
   "metadata": {},
   "outputs": [
    {
     "name": "stdout",
     "output_type": "stream",
     "text": [
      "La sumatoria de los números negativos es: -15\n",
      "El promedio de los números positivos es: 6.666666666666667\n"
     ]
    }
   ],
   "source": [
    "sumatoria_negativos = 0\n",
    "cantidad_positivos = 0\n",
    "sumatoria_positivos = 0\n",
    "\n",
    "for i in range(6):\n",
    "    numero = int(input(\"Ingrese el número entero {}: \".format(i + 1)))\n",
    "    \n",
    "    if numero < 0:\n",
    "        sumatoria_negativos += numero\n",
    "    elif numero > 0:\n",
    "        sumatoria_positivos += numero\n",
    "        cantidad_positivos += 1\n",
    "\n",
    "if cantidad_positivos > 0:\n",
    "    promedio_positivos = sumatoria_positivos / cantidad_positivos\n",
    "    print(\"La sumatoria de los números negativos es:\", sumatoria_negativos)\n",
    "    print(\"El promedio de los números positivos es:\", promedio_positivos)\n",
    "else:\n",
    "    print(\"No se ingresaron números positivos.\")"
   ]
  },
  {
   "cell_type": "markdown",
   "metadata": {},
   "source": [
    "### 14. Dado un número entero positivo, mostrar su factorial. El factorial de un número se obtiene multiplicando todos los números enteros positivos que hay entre el 1 y ese número."
   ]
  },
  {
   "cell_type": "code",
   "execution_count": 16,
   "metadata": {},
   "outputs": [
    {
     "name": "stdout",
     "output_type": "stream",
     "text": [
      "El factorial de 50 es: 30414093201713378043612608166064768844377641568960512000000000000\n"
     ]
    }
   ],
   "source": [
    "numero = int(input(\"Ingrese un número entero positivo: \"))\n",
    "\n",
    "if numero < 0:\n",
    "    print(\"El número debe ser positivo.\")\n",
    "else:\n",
    "    factorial = 1\n",
    "\n",
    "    for i in range(1, numero + 1):\n",
    "        factorial *= i\n",
    "\n",
    "\n",
    "    print(\"El factorial de\", numero, \"es:\", factorial)"
   ]
  },
  {
   "cell_type": "markdown",
   "metadata": {},
   "source": [
    "### 15. Escribir un programa que pida al usuario una palabra y luego muestre por pantalla una a una las letras de la palabra introducida empezando por la última."
   ]
  },
  {
   "cell_type": "code",
   "execution_count": 17,
   "metadata": {},
   "outputs": [
    {
     "name": "stdout",
     "output_type": "stream",
     "text": [
      "o\n",
      "d\n",
      "n\n",
      "u\n",
      "m\n",
      " \n",
      "a\n",
      "l\n",
      "o\n",
      "h\n"
     ]
    }
   ],
   "source": [
    "palabra = input(\"Ingrese una palabra: \")\n",
    "\n",
    "for letra in palabra[::-1]:\n",
    "    print(letra)"
   ]
  },
  {
   "cell_type": "code",
   "execution_count": null,
   "metadata": {},
   "outputs": [],
   "source": []
  }
 ],
 "metadata": {
  "kernelspec": {
   "display_name": "anaconda-toolbox",
   "language": "python",
   "name": "python3"
  },
  "language_info": {
   "codemirror_mode": {
    "name": "ipython",
    "version": 3
   },
   "file_extension": ".py",
   "mimetype": "text/x-python",
   "name": "python",
   "nbconvert_exporter": "python",
   "pygments_lexer": "ipython3",
   "version": "3.11.9"
  }
 },
 "nbformat": 4,
 "nbformat_minor": 2
}
